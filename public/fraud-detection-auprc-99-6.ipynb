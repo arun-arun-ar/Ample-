{
 "cells": [
  {
   "cell_type": "markdown",
   "id": "d607efe3",
   "metadata": {
    "papermill": {
     "duration": 0.046514,
     "end_time": "2025-04-01T00:38:10.893597",
     "exception": false,
     "start_time": "2025-04-01T00:38:10.847083",
     "status": "completed"
    },
    "tags": []
   },
   "source": [
    "# Fraud Detection \n",
    "This notebook will attempt to build a predictive algorithm to detect a fraudulent transaction using a training dataset. We will explain the thinking process at every step using LIME (Local Interpretable Model-agnostic Explanations) principles making it accessible and user-friendly.\n",
    "\n",
    "\n",
    "## Table of Contents\n",
    "1. Environment set-up\n",
    "    * Importing Libraries\n",
    "    * Loading the data\n",
    "2. Initial Diagnostics\n",
    "    * Glimpse\n",
    "    * Descriptive Statitics\n",
    "    * Target Variable Analysis\n",
    "    * Predictors Analysis\n",
    "    * Correlation Matrix\n",
    "3. Data Processing\n",
    "    * Missing Values\n",
    "    * Outliers\n",
    "    * Duplicate Observations\n",
    "4. Exploratory Data Analysis\n",
    "    * How does Amount's distribution behaves across targetes?\n",
    "    * Are there any noteworthy point in time where fraud occured?\n",
    "5. Class Imbalance \n",
    "    * SMOTE - Synthetic Minority Oversampling Technique\n",
    "    * Near-Miss Algorithm\n",
    "    * Combined Random Sampler\n",
    "6. Dimensionality Reduction\n",
    "    * PCA - Principal Component Analysis\n",
    "    * SVD - Singular Value Decomposition\n",
    "    * LDA - Linear Discriminant Analysis\n",
    "7. Machine Learning set-up\n",
    "    * Train-test split\n",
    "    * Cross-validation\n",
    "8. Machine Learning - Simple Models\n",
    "    * Logistic Regression\n",
    "    * k-Nearest Neighbors\n",
    "    * Decision Tree\n",
    "    * Stochastic Gradient Descent\n",
    "9. Machine Learning - Ensemble Methods\n",
    "    * Random Forest\n",
    "    * Stochastic Gradient Boosting\n",
    "    * Stackingtargetifier\n",
    "11. Final Recommendation"
   ]
  },
  {
   "cell_type": "markdown",
   "id": "09df846a",
   "metadata": {
    "papermill": {
     "duration": 0.033785,
     "end_time": "2025-04-01T00:38:10.958294",
     "exception": false,
     "start_time": "2025-04-01T00:38:10.924509",
     "status": "completed"
    },
    "tags": []
   },
   "source": [
    "# 1. Environment set-up"
   ]
  },
  {
   "cell_type": "code",
   "execution_count": 1,
   "id": "303f040a",
   "metadata": {
    "_cell_guid": "b1076dfc-b9ad-4769-8c92-a6c4dae69d19",
    "_uuid": "8f2839f25d086af736a60e9eeb907d3b93b6e0e5",
    "execution": {
     "iopub.execute_input": "2025-04-01T00:38:11.028784Z",
     "iopub.status.busy": "2025-04-01T00:38:11.028147Z",
     "iopub.status.idle": "2025-04-01T00:38:12.822302Z",
     "shell.execute_reply": "2025-04-01T00:38:12.821610Z",
     "shell.execute_reply.started": "2022-02-11T15:36:11.075408Z"
    },
    "papermill": {
     "duration": 1.837634,
     "end_time": "2025-04-01T00:38:12.822482",
     "exception": false,
     "start_time": "2025-04-01T00:38:10.984848",
     "status": "completed"
    },
    "tags": []
   },
   "outputs": [],
   "source": [
    "## Importing Libraries\n",
    "\n",
    "#Set seed\n",
    "import random\n",
    "random.seed(1234)\n",
    "\n",
    "# Manipulating & Visualizing Data\n",
    "import pandas as pd\n",
    "import numpy as np\n",
    "import matplotlib.pyplot as plt\n",
    "import seaborn as sns\n",
    "sns.set(rc={'figure.figsize':(12, 8)})\n",
    "\n",
    "# Statiscal methods\n",
    "from scipy import stats\n",
    "\n",
    "# Sampling Methods\n",
    "from imblearn.over_sampling import SMOTE, RandomOverSampler\n",
    "from imblearn.under_sampling import NearMiss, RandomUnderSampler\n",
    "\n",
    "# Model Selectioin\n",
    "from sklearn.model_selection import train_test_split\n",
    "from sklearn.model_selection import cross_validate\n",
    "\n",
    "# Dimensionality Reduction\n",
    "from sklearn.decomposition import PCA, TruncatedSVD\n",
    "\n",
    "# Simple ML models\n",
    "from sklearn.pipeline import Pipeline\n",
    "from sklearn.linear_model import LogisticRegression, SGDClassifier\n",
    "from sklearn.neighbors import KNeighborsClassifier\n",
    "from sklearn.tree import DecisionTreeClassifier\n",
    "\n",
    "# Ensemble Learning\n",
    "from sklearn.ensemble import RandomForestClassifier\n",
    "from sklearn.ensemble import BaggingClassifier\n",
    "from sklearn.ensemble import GradientBoostingClassifier\n",
    "\n",
    "# Performance metrics\n",
    "import sklearn.metrics as skm"
   ]
  },
  {
   "cell_type": "code",
   "execution_count": 2,
   "id": "d56703bd",
   "metadata": {
    "execution": {
     "iopub.execute_input": "2025-04-01T00:38:12.876910Z",
     "iopub.status.busy": "2025-04-01T00:38:12.876170Z",
     "iopub.status.idle": "2025-04-01T00:38:17.387301Z",
     "shell.execute_reply": "2025-04-01T00:38:17.386699Z",
     "shell.execute_reply.started": "2022-02-11T15:36:12.689033Z"
    },
    "papermill": {
     "duration": 4.540532,
     "end_time": "2025-04-01T00:38:17.387483",
     "exception": false,
     "start_time": "2025-04-01T00:38:12.846951",
     "status": "completed"
    },
    "tags": []
   },
   "outputs": [],
   "source": [
    "## Loading the dataset\n",
    "df = pd.read_csv(\"/kaggle/input/creditcardfraud/creditcard.csv\")"
   ]
  },
  {
   "cell_type": "markdown",
   "id": "8b44cf29",
   "metadata": {
    "papermill": {
     "duration": 0.024941,
     "end_time": "2025-04-01T00:38:17.440904",
     "exception": false,
     "start_time": "2025-04-01T00:38:17.415963",
     "status": "completed"
    },
    "tags": []
   },
   "source": [
    "# 2. Initial Diagnostics"
   ]
  },
  {
   "cell_type": "code",
   "execution_count": 3,
   "id": "268993e4",
   "metadata": {
    "execution": {
     "iopub.execute_input": "2025-04-01T00:38:17.502986Z",
     "iopub.status.busy": "2025-04-01T00:38:17.502275Z",
     "iopub.status.idle": "2025-04-01T00:38:17.550283Z",
     "shell.execute_reply": "2025-04-01T00:38:17.549578Z",
     "shell.execute_reply.started": "2022-02-11T15:36:17.049976Z"
    },
    "papermill": {
     "duration": 0.084572,
     "end_time": "2025-04-01T00:38:17.550449",
     "exception": false,
     "start_time": "2025-04-01T00:38:17.465877",
     "status": "completed"
    },
    "tags": []
   },
   "outputs": [
    {
     "name": "stdout",
     "output_type": "stream",
     "text": [
      "<class 'pandas.core.frame.DataFrame'>\n",
      "RangeIndex: 284807 entries, 0 to 284806\n",
      "Data columns (total 31 columns):\n",
      " #   Column  Non-Null Count   Dtype  \n",
      "---  ------  --------------   -----  \n",
      " 0   Time    284807 non-null  float64\n",
      " 1   V1      284807 non-null  float64\n",
      " 2   V2      284807 non-null  float64\n",
      " 3   V3      284807 non-null  float64\n",
      " 4   V4      284807 non-null  float64\n",
      " 5   V5      284807 non-null  float64\n",
      " 6   V6      284807 non-null  float64\n",
      " 7   V7      284807 non-null  float64\n",
      " 8   V8      284807 non-null  float64\n",
      " 9   V9      284807 non-null  float64\n",
      " 10  V10     284807 non-null  float64\n",
      " 11  V11     284807 non-null  float64\n",
      " 12  V12     284807 non-null  float64\n",
      " 13  V13     284807 non-null  float64\n",
      " 14  V14     284807 non-null  float64\n",
      " 15  V15     284807 non-null  float64\n",
      " 16  V16     284807 non-null  float64\n",
      " 17  V17     284807 non-null  float64\n",
      " 18  V18     284807 non-null  float64\n",
      " 19  V19     284807 non-null  float64\n",
      " 20  V20     284807 non-null  float64\n",
      " 21  V21     284807 non-null  float64\n",
      " 22  V22     284807 non-null  float64\n",
      " 23  V23     284807 non-null  float64\n",
      " 24  V24     284807 non-null  float64\n",
      " 25  V25     284807 non-null  float64\n",
      " 26  V26     284807 non-null  float64\n",
      " 27  V27     284807 non-null  float64\n",
      " 28  V28     284807 non-null  float64\n",
      " 29  Amount  284807 non-null  float64\n",
      " 30  Class   284807 non-null  int64  \n",
      "dtypes: float64(30), int64(1)\n",
      "memory usage: 67.4 MB\n"
     ]
    }
   ],
   "source": [
    "## Glimpse of the data\n",
    "df.info()"
   ]
  },
  {
   "cell_type": "code",
   "execution_count": 4,
   "id": "a338d81e",
   "metadata": {
    "execution": {
     "iopub.execute_input": "2025-04-01T00:38:17.648532Z",
     "iopub.status.busy": "2025-04-01T00:38:17.647765Z",
     "iopub.status.idle": "2025-04-01T00:38:18.067738Z",
     "shell.execute_reply": "2025-04-01T00:38:18.068317Z",
     "shell.execute_reply.started": "2022-02-11T15:36:17.102767Z"
    },
    "papermill": {
     "duration": 0.491421,
     "end_time": "2025-04-01T00:38:18.068530",
     "exception": false,
     "start_time": "2025-04-01T00:38:17.577109",
     "status": "completed"
    },
    "tags": []
   },
   "outputs": [
    {
     "data": {
      "text/html": [
       "<div>\n",
       "<style scoped>\n",
       "    .dataframe tbody tr th:only-of-type {\n",
       "        vertical-align: middle;\n",
       "    }\n",
       "\n",
       "    .dataframe tbody tr th {\n",
       "        vertical-align: top;\n",
       "    }\n",
       "\n",
       "    .dataframe thead th {\n",
       "        text-align: right;\n",
       "    }\n",
       "</style>\n",
       "<table border=\"1\" class=\"dataframe\">\n",
       "  <thead>\n",
       "    <tr style=\"text-align: right;\">\n",
       "      <th></th>\n",
       "      <th>Time</th>\n",
       "      <th>V1</th>\n",
       "      <th>V2</th>\n",
       "      <th>V3</th>\n",
       "      <th>V4</th>\n",
       "      <th>V5</th>\n",
       "      <th>V6</th>\n",
       "      <th>V7</th>\n",
       "      <th>V8</th>\n",
       "      <th>V9</th>\n",
       "      <th>...</th>\n",
       "      <th>V21</th>\n",
       "      <th>V22</th>\n",
       "      <th>V23</th>\n",
       "      <th>V24</th>\n",
       "      <th>V25</th>\n",
       "      <th>V26</th>\n",
       "      <th>V27</th>\n",
       "      <th>V28</th>\n",
       "      <th>Amount</th>\n",
       "      <th>Class</th>\n",
       "    </tr>\n",
       "  </thead>\n",
       "  <tbody>\n",
       "    <tr>\n",
       "      <th>count</th>\n",
       "      <td>284807.000000</td>\n",
       "      <td>2.848070e+05</td>\n",
       "      <td>2.848070e+05</td>\n",
       "      <td>2.848070e+05</td>\n",
       "      <td>2.848070e+05</td>\n",
       "      <td>2.848070e+05</td>\n",
       "      <td>2.848070e+05</td>\n",
       "      <td>2.848070e+05</td>\n",
       "      <td>2.848070e+05</td>\n",
       "      <td>2.848070e+05</td>\n",
       "      <td>...</td>\n",
       "      <td>2.848070e+05</td>\n",
       "      <td>2.848070e+05</td>\n",
       "      <td>2.848070e+05</td>\n",
       "      <td>2.848070e+05</td>\n",
       "      <td>2.848070e+05</td>\n",
       "      <td>2.848070e+05</td>\n",
       "      <td>2.848070e+05</td>\n",
       "      <td>2.848070e+05</td>\n",
       "      <td>284807.000000</td>\n",
       "      <td>284807.000000</td>\n",
       "    </tr>\n",
       "    <tr>\n",
       "      <th>mean</th>\n",
       "      <td>94813.859575</td>\n",
       "      <td>3.918649e-15</td>\n",
       "      <td>5.682686e-16</td>\n",
       "      <td>-8.761736e-15</td>\n",
       "      <td>2.811118e-15</td>\n",
       "      <td>-1.552103e-15</td>\n",
       "      <td>2.040130e-15</td>\n",
       "      <td>-1.698953e-15</td>\n",
       "      <td>-1.893285e-16</td>\n",
       "      <td>-3.147640e-15</td>\n",
       "      <td>...</td>\n",
       "      <td>1.473120e-16</td>\n",
       "      <td>8.042109e-16</td>\n",
       "      <td>5.282512e-16</td>\n",
       "      <td>4.456271e-15</td>\n",
       "      <td>1.426896e-15</td>\n",
       "      <td>1.701640e-15</td>\n",
       "      <td>-3.662252e-16</td>\n",
       "      <td>-1.217809e-16</td>\n",
       "      <td>88.349619</td>\n",
       "      <td>0.001727</td>\n",
       "    </tr>\n",
       "    <tr>\n",
       "      <th>std</th>\n",
       "      <td>47488.145955</td>\n",
       "      <td>1.958696e+00</td>\n",
       "      <td>1.651309e+00</td>\n",
       "      <td>1.516255e+00</td>\n",
       "      <td>1.415869e+00</td>\n",
       "      <td>1.380247e+00</td>\n",
       "      <td>1.332271e+00</td>\n",
       "      <td>1.237094e+00</td>\n",
       "      <td>1.194353e+00</td>\n",
       "      <td>1.098632e+00</td>\n",
       "      <td>...</td>\n",
       "      <td>7.345240e-01</td>\n",
       "      <td>7.257016e-01</td>\n",
       "      <td>6.244603e-01</td>\n",
       "      <td>6.056471e-01</td>\n",
       "      <td>5.212781e-01</td>\n",
       "      <td>4.822270e-01</td>\n",
       "      <td>4.036325e-01</td>\n",
       "      <td>3.300833e-01</td>\n",
       "      <td>250.120109</td>\n",
       "      <td>0.041527</td>\n",
       "    </tr>\n",
       "    <tr>\n",
       "      <th>min</th>\n",
       "      <td>0.000000</td>\n",
       "      <td>-5.640751e+01</td>\n",
       "      <td>-7.271573e+01</td>\n",
       "      <td>-4.832559e+01</td>\n",
       "      <td>-5.683171e+00</td>\n",
       "      <td>-1.137433e+02</td>\n",
       "      <td>-2.616051e+01</td>\n",
       "      <td>-4.355724e+01</td>\n",
       "      <td>-7.321672e+01</td>\n",
       "      <td>-1.343407e+01</td>\n",
       "      <td>...</td>\n",
       "      <td>-3.483038e+01</td>\n",
       "      <td>-1.093314e+01</td>\n",
       "      <td>-4.480774e+01</td>\n",
       "      <td>-2.836627e+00</td>\n",
       "      <td>-1.029540e+01</td>\n",
       "      <td>-2.604551e+00</td>\n",
       "      <td>-2.256568e+01</td>\n",
       "      <td>-1.543008e+01</td>\n",
       "      <td>0.000000</td>\n",
       "      <td>0.000000</td>\n",
       "    </tr>\n",
       "    <tr>\n",
       "      <th>25%</th>\n",
       "      <td>54201.500000</td>\n",
       "      <td>-9.203734e-01</td>\n",
       "      <td>-5.985499e-01</td>\n",
       "      <td>-8.903648e-01</td>\n",
       "      <td>-8.486401e-01</td>\n",
       "      <td>-6.915971e-01</td>\n",
       "      <td>-7.682956e-01</td>\n",
       "      <td>-5.540759e-01</td>\n",
       "      <td>-2.086297e-01</td>\n",
       "      <td>-6.430976e-01</td>\n",
       "      <td>...</td>\n",
       "      <td>-2.283949e-01</td>\n",
       "      <td>-5.423504e-01</td>\n",
       "      <td>-1.618463e-01</td>\n",
       "      <td>-3.545861e-01</td>\n",
       "      <td>-3.171451e-01</td>\n",
       "      <td>-3.269839e-01</td>\n",
       "      <td>-7.083953e-02</td>\n",
       "      <td>-5.295979e-02</td>\n",
       "      <td>5.600000</td>\n",
       "      <td>0.000000</td>\n",
       "    </tr>\n",
       "    <tr>\n",
       "      <th>50%</th>\n",
       "      <td>84692.000000</td>\n",
       "      <td>1.810880e-02</td>\n",
       "      <td>6.548556e-02</td>\n",
       "      <td>1.798463e-01</td>\n",
       "      <td>-1.984653e-02</td>\n",
       "      <td>-5.433583e-02</td>\n",
       "      <td>-2.741871e-01</td>\n",
       "      <td>4.010308e-02</td>\n",
       "      <td>2.235804e-02</td>\n",
       "      <td>-5.142873e-02</td>\n",
       "      <td>...</td>\n",
       "      <td>-2.945017e-02</td>\n",
       "      <td>6.781943e-03</td>\n",
       "      <td>-1.119293e-02</td>\n",
       "      <td>4.097606e-02</td>\n",
       "      <td>1.659350e-02</td>\n",
       "      <td>-5.213911e-02</td>\n",
       "      <td>1.342146e-03</td>\n",
       "      <td>1.124383e-02</td>\n",
       "      <td>22.000000</td>\n",
       "      <td>0.000000</td>\n",
       "    </tr>\n",
       "    <tr>\n",
       "      <th>75%</th>\n",
       "      <td>139320.500000</td>\n",
       "      <td>1.315642e+00</td>\n",
       "      <td>8.037239e-01</td>\n",
       "      <td>1.027196e+00</td>\n",
       "      <td>7.433413e-01</td>\n",
       "      <td>6.119264e-01</td>\n",
       "      <td>3.985649e-01</td>\n",
       "      <td>5.704361e-01</td>\n",
       "      <td>3.273459e-01</td>\n",
       "      <td>5.971390e-01</td>\n",
       "      <td>...</td>\n",
       "      <td>1.863772e-01</td>\n",
       "      <td>5.285536e-01</td>\n",
       "      <td>1.476421e-01</td>\n",
       "      <td>4.395266e-01</td>\n",
       "      <td>3.507156e-01</td>\n",
       "      <td>2.409522e-01</td>\n",
       "      <td>9.104512e-02</td>\n",
       "      <td>7.827995e-02</td>\n",
       "      <td>77.165000</td>\n",
       "      <td>0.000000</td>\n",
       "    </tr>\n",
       "    <tr>\n",
       "      <th>max</th>\n",
       "      <td>172792.000000</td>\n",
       "      <td>2.454930e+00</td>\n",
       "      <td>2.205773e+01</td>\n",
       "      <td>9.382558e+00</td>\n",
       "      <td>1.687534e+01</td>\n",
       "      <td>3.480167e+01</td>\n",
       "      <td>7.330163e+01</td>\n",
       "      <td>1.205895e+02</td>\n",
       "      <td>2.000721e+01</td>\n",
       "      <td>1.559499e+01</td>\n",
       "      <td>...</td>\n",
       "      <td>2.720284e+01</td>\n",
       "      <td>1.050309e+01</td>\n",
       "      <td>2.252841e+01</td>\n",
       "      <td>4.584549e+00</td>\n",
       "      <td>7.519589e+00</td>\n",
       "      <td>3.517346e+00</td>\n",
       "      <td>3.161220e+01</td>\n",
       "      <td>3.384781e+01</td>\n",
       "      <td>25691.160000</td>\n",
       "      <td>1.000000</td>\n",
       "    </tr>\n",
       "  </tbody>\n",
       "</table>\n",
       "<p>8 rows × 31 columns</p>\n",
       "</div>"
      ],
      "text/plain": [
       "                Time            V1            V2            V3            V4  \\\n",
       "count  284807.000000  2.848070e+05  2.848070e+05  2.848070e+05  2.848070e+05   \n",
       "mean    94813.859575  3.918649e-15  5.682686e-16 -8.761736e-15  2.811118e-15   \n",
       "std     47488.145955  1.958696e+00  1.651309e+00  1.516255e+00  1.415869e+00   \n",
       "min         0.000000 -5.640751e+01 -7.271573e+01 -4.832559e+01 -5.683171e+00   \n",
       "25%     54201.500000 -9.203734e-01 -5.985499e-01 -8.903648e-01 -8.486401e-01   \n",
       "50%     84692.000000  1.810880e-02  6.548556e-02  1.798463e-01 -1.984653e-02   \n",
       "75%    139320.500000  1.315642e+00  8.037239e-01  1.027196e+00  7.433413e-01   \n",
       "max    172792.000000  2.454930e+00  2.205773e+01  9.382558e+00  1.687534e+01   \n",
       "\n",
       "                 V5            V6            V7            V8            V9  \\\n",
       "count  2.848070e+05  2.848070e+05  2.848070e+05  2.848070e+05  2.848070e+05   \n",
       "mean  -1.552103e-15  2.040130e-15 -1.698953e-15 -1.893285e-16 -3.147640e-15   \n",
       "std    1.380247e+00  1.332271e+00  1.237094e+00  1.194353e+00  1.098632e+00   \n",
       "min   -1.137433e+02 -2.616051e+01 -4.355724e+01 -7.321672e+01 -1.343407e+01   \n",
       "25%   -6.915971e-01 -7.682956e-01 -5.540759e-01 -2.086297e-01 -6.430976e-01   \n",
       "50%   -5.433583e-02 -2.741871e-01  4.010308e-02  2.235804e-02 -5.142873e-02   \n",
       "75%    6.119264e-01  3.985649e-01  5.704361e-01  3.273459e-01  5.971390e-01   \n",
       "max    3.480167e+01  7.330163e+01  1.205895e+02  2.000721e+01  1.559499e+01   \n",
       "\n",
       "       ...           V21           V22           V23           V24  \\\n",
       "count  ...  2.848070e+05  2.848070e+05  2.848070e+05  2.848070e+05   \n",
       "mean   ...  1.473120e-16  8.042109e-16  5.282512e-16  4.456271e-15   \n",
       "std    ...  7.345240e-01  7.257016e-01  6.244603e-01  6.056471e-01   \n",
       "min    ... -3.483038e+01 -1.093314e+01 -4.480774e+01 -2.836627e+00   \n",
       "25%    ... -2.283949e-01 -5.423504e-01 -1.618463e-01 -3.545861e-01   \n",
       "50%    ... -2.945017e-02  6.781943e-03 -1.119293e-02  4.097606e-02   \n",
       "75%    ...  1.863772e-01  5.285536e-01  1.476421e-01  4.395266e-01   \n",
       "max    ...  2.720284e+01  1.050309e+01  2.252841e+01  4.584549e+00   \n",
       "\n",
       "                V25           V26           V27           V28         Amount  \\\n",
       "count  2.848070e+05  2.848070e+05  2.848070e+05  2.848070e+05  284807.000000   \n",
       "mean   1.426896e-15  1.701640e-15 -3.662252e-16 -1.217809e-16      88.349619   \n",
       "std    5.212781e-01  4.822270e-01  4.036325e-01  3.300833e-01     250.120109   \n",
       "min   -1.029540e+01 -2.604551e+00 -2.256568e+01 -1.543008e+01       0.000000   \n",
       "25%   -3.171451e-01 -3.269839e-01 -7.083953e-02 -5.295979e-02       5.600000   \n",
       "50%    1.659350e-02 -5.213911e-02  1.342146e-03  1.124383e-02      22.000000   \n",
       "75%    3.507156e-01  2.409522e-01  9.104512e-02  7.827995e-02      77.165000   \n",
       "max    7.519589e+00  3.517346e+00  3.161220e+01  3.384781e+01   25691.160000   \n",
       "\n",
       "               Class  \n",
       "count  284807.000000  \n",
       "mean        0.001727  \n",
       "std         0.041527  \n",
       "min         0.000000  \n",
       "25%         0.000000  \n",
       "50%         0.000000  \n",
       "75%         0.000000  \n",
       "max         1.000000  \n",
       "\n",
       "[8 rows x 31 columns]"
      ]
     },
     "execution_count": 4,
     "metadata": {},
     "output_type": "execute_result"
    }
   ],
   "source": [
    "## Descriptive Statistics\n",
    "df.describe()"
   ]
  },
  {
   "cell_type": "markdown",
   "id": "bb425053",
   "metadata": {
    "papermill": {
     "duration": 0.02658,
     "end_time": "2025-04-01T00:38:18.121349",
     "exception": false,
     "start_time": "2025-04-01T00:38:18.094769",
     "status": "completed"
    },
    "tags": []
   },
   "source": [
    "**Takeaway:** The following percentage breakdown confirms the note in the project description; indeed, we have a considerable class imbalance with the target variable. It stays consistent that most fraudulent activities are much less frequent than non-fraudulent. Before proceeding, we shall note it to avoid any overfitting issues when fitting the machine learning models."
   ]
  },
  {
   "cell_type": "code",
   "execution_count": 5,
   "id": "f4458fbf",
   "metadata": {
    "execution": {
     "iopub.execute_input": "2025-04-01T00:38:18.185513Z",
     "iopub.status.busy": "2025-04-01T00:38:18.184466Z",
     "iopub.status.idle": "2025-04-01T00:38:18.188681Z",
     "shell.execute_reply": "2025-04-01T00:38:18.188059Z",
     "shell.execute_reply.started": "2022-02-11T15:36:17.594115Z"
    },
    "papermill": {
     "duration": 0.041338,
     "end_time": "2025-04-01T00:38:18.188888",
     "exception": false,
     "start_time": "2025-04-01T00:38:18.147550",
     "status": "completed"
    },
    "tags": []
   },
   "outputs": [
    {
     "data": {
      "text/plain": [
       "0    0.998273\n",
       "1    0.001727\n",
       "Name: Class, dtype: float64"
      ]
     },
     "execution_count": 5,
     "metadata": {},
     "output_type": "execute_result"
    }
   ],
   "source": [
    "## Target Variable Analysis\n",
    "df['Class'].value_counts(normalize=True)"
   ]
  },
  {
   "cell_type": "markdown",
   "id": "095590e4",
   "metadata": {
    "papermill": {
     "duration": 0.025919,
     "end_time": "2025-04-01T00:38:18.241116",
     "exception": false,
     "start_time": "2025-04-01T00:38:18.215197",
     "status": "completed"
    },
    "tags": []
   },
   "source": [
    "**Note:** We did not have any information on the numerical predictors for privacy, given their transformation and standardization, excluding Amount & Time. In that regard, Amount presented itself as potentially most informative for the feature variable analysis. To better understand the variable's distribution, we had to transform it using a log scale."
   ]
  },
  {
   "cell_type": "code",
   "execution_count": 6,
   "id": "66c5b00a",
   "metadata": {
    "execution": {
     "iopub.execute_input": "2025-04-01T00:38:18.303751Z",
     "iopub.status.busy": "2025-04-01T00:38:18.303094Z",
     "iopub.status.idle": "2025-04-01T00:38:43.256457Z",
     "shell.execute_reply": "2025-04-01T00:38:43.256974Z",
     "shell.execute_reply.started": "2022-02-11T15:36:17.607514Z"
    },
    "papermill": {
     "duration": 24.989538,
     "end_time": "2025-04-01T00:38:43.257199",
     "exception": false,
     "start_time": "2025-04-01T00:38:18.267661",
     "status": "completed"
    },
    "tags": []
   },
   "outputs": [
    {
     "name": "stdout",
     "output_type": "stream",
     "text": [
      "count    284807.000000\n",
      "mean         88.349619\n",
      "std         250.120109\n",
      "min           0.000000\n",
      "25%           5.600000\n",
      "50%          22.000000\n",
      "75%          77.165000\n",
      "max       25691.160000\n",
      "Name: Amount, dtype: float64\n"
     ]
    },
    {
     "data": {
      "image/png": "[encoded data removed]",
      "text/plain": [
       "<Figure size 864x576 with 1 Axes>"
      ]
     },
     "metadata": {},
     "output_type": "display_data"
    }
   ],
   "source": [
    "## Feature Variable Analysis\n",
    "\n",
    "# Basic statistics\n",
    "print(df['Amount'].describe())\n",
    "\n",
    "# Distribution\n",
    "sns.histplot(data=df, x='Amount').set(xscale=\"log\")\n",
    "plt.xlabel(\"Dollar Amount (Log Scale)\")\n",
    "plt.ylabel(\"Frequency (Count)\")\n",
    "plt.title(\"Distribution of Transaction Amount (log scaled)\")\n",
    "plt.show()"
   ]
  },
  {
   "cell_type": "code",
   "execution_count": 7,
   "id": "b00a9d92",
   "metadata": {
    "execution": {
     "iopub.execute_input": "2025-04-01T00:38:43.324449Z",
     "iopub.status.busy": "2025-04-01T00:38:43.323696Z",
     "iopub.status.idle": "2025-04-01T00:38:46.374871Z",
     "shell.execute_reply": "2025-04-01T00:38:46.375422Z"
    },
    "papermill": {
     "duration": 3.089923,
     "end_time": "2025-04-01T00:38:46.375631",
     "exception": false,
     "start_time": "2025-04-01T00:38:43.285708",
     "status": "completed"
    },
    "tags": []
   },
   "outputs": [
    {
     "data": {
      "image/png": "[encoded data removed]",
      "text/plain": [
       "<Figure size 1368x1080 with 2 Axes>"
      ]
     },
     "metadata": {},
     "output_type": "display_data"
    }
   ],
   "source": [
    "# Correlation Matrix\n",
    "f = plt.figure(figsize=(19, 15))\n",
    "matrix = df.corr().round(2)\n",
    "mask = np.triu(np.ones_like(matrix, dtype=bool))\n",
    "sns.heatmap(matrix, annot=True, vmax=1, vmin=-1, \n",
    "            center=0, cmap='vlag', mask=mask)\n",
    "plt.show()"
   ]
  },
  {
   "cell_type": "markdown",
   "id": "a2ce9cfa",
   "metadata": {
    "papermill": {
     "duration": 0.045679,
     "end_time": "2025-04-01T00:38:46.486845",
     "exception": false,
     "start_time": "2025-04-01T00:38:46.441166",
     "status": "completed"
    },
    "tags": []
   },
   "source": [
    "**Takeaway:** From the correlation matrix plotted, we can observe very few correlated variables as we would expect after the feature transformation. The two meaningful features, are Time and Amount, have some relative correlation with some variables with coefficients approximating 0.4. With such low values, it would be pretty challenging to imply a correlation between any of them with any certainty. It also indicates that there would be a very low incidence of any colinearity within our data\n",
    "\n",
    "**Note:**  The code below filters those pairs with correlation coefficients above 0.5 as a threshold. As noted above, those values give very little to no confidence in any solid correlated relationship between variables as few crossing the 0.5 mark."
   ]
  },
  {
   "cell_type": "code",
   "execution_count": 8,
   "id": "735e2978",
   "metadata": {
    "execution": {
     "iopub.execute_input": "2025-04-01T00:38:46.560910Z",
     "iopub.status.busy": "2025-04-01T00:38:46.560233Z",
     "iopub.status.idle": "2025-04-01T00:38:47.377779Z",
     "shell.execute_reply": "2025-04-01T00:38:47.377253Z"
    },
    "papermill": {
     "duration": 0.857318,
     "end_time": "2025-04-01T00:38:47.377994",
     "exception": false,
     "start_time": "2025-04-01T00:38:46.520676",
     "status": "completed"
    },
    "tags": []
   },
   "outputs": [
    {
     "name": "stdout",
     "output_type": "stream",
     "text": [
      "V2      Amount    0.531409\n",
      "Amount  V2        0.531409\n",
      "dtype: float64\n"
     ]
    }
   ],
   "source": [
    "# Filtering those with some signigicant correlation coefficients\n",
    "matrix = df.corr()\n",
    "matrix = abs(matrix).unstack()\n",
    "matrix = matrix[matrix.between(0.5, 1, inclusive='neither')]\n",
    "\n",
    "print(matrix)"
   ]
  },
  {
   "cell_type": "markdown",
   "id": "8853b271",
   "metadata": {
    "papermill": {
     "duration": 0.030987,
     "end_time": "2025-04-01T00:38:47.440871",
     "exception": false,
     "start_time": "2025-04-01T00:38:47.409884",
     "status": "completed"
    },
    "tags": []
   },
   "source": [
    "**Takeaway:** It appears that the V2 variable has a notable correlation to the Transaction Amount variable. Since most of them have been anonymized, we cannot make any further conclusion or analysis."
   ]
  },
  {
   "cell_type": "markdown",
   "id": "743297e1",
   "metadata": {
    "papermill": {
     "duration": 0.031125,
     "end_time": "2025-04-01T00:38:47.503519",
     "exception": false,
     "start_time": "2025-04-01T00:38:47.472394",
     "status": "completed"
    },
    "tags": []
   },
   "source": [
    "# 3. Data Processing"
   ]
  },
  {
   "cell_type": "code",
   "execution_count": 9,
   "id": "dd331bbf",
   "metadata": {
    "execution": {
     "iopub.execute_input": "2025-04-01T00:38:47.574122Z",
     "iopub.status.busy": "2025-04-01T00:38:47.573265Z",
     "iopub.status.idle": "2025-04-01T00:38:47.576735Z",
     "shell.execute_reply": "2025-04-01T00:38:47.576080Z"
    },
    "papermill": {
     "duration": 0.041949,
     "end_time": "2025-04-01T00:38:47.576937",
     "exception": false,
     "start_time": "2025-04-01T00:38:47.534988",
     "status": "completed"
    },
    "tags": []
   },
   "outputs": [],
   "source": [
    "## Simple processing steps\n",
    "def basic_processing(data, col_drop, col_rename):\n",
    "    \"\"\" Basic data processing: drop/rename columns, remove duplicate(s)\n",
    "    \n",
    "    Parameters\n",
    "    ----------\n",
    "    data : dataframe\n",
    "        A dataset\n",
    "    col_drop : list\n",
    "        A list of column names to drop\n",
    "    col_rename : dict\n",
    "        A dictionary pairing the old and new column names desired\n",
    "\n",
    "    Returns\n",
    "    -------\n",
    "    data\n",
    "        a modified dataframe\n",
    "    \"\"\" \n",
    "    #Drop the 'Serial No.' column\n",
    "    if len(col_drop) > 0:\n",
    "        data.drop(col_drop, axis=1, inplace=True)\n",
    "\n",
    "    # Renaming the target variable and one predictor\n",
    "    if col_rename:\n",
    "        data.rename(columns=col_rename, inplace=True)\n",
    "    \n",
    "    # Removing any Duplicate Observations if any\n",
    "    data.drop_duplicates(keep='first', inplace=True)\n",
    "    return data"
   ]
  },
  {
   "cell_type": "code",
   "execution_count": 10,
   "id": "15ed8941",
   "metadata": {
    "execution": {
     "iopub.execute_input": "2025-04-01T00:38:47.649020Z",
     "iopub.status.busy": "2025-04-01T00:38:47.648326Z",
     "iopub.status.idle": "2025-04-01T00:38:49.121380Z",
     "shell.execute_reply": "2025-04-01T00:38:49.120693Z"
    },
    "papermill": {
     "duration": 1.511877,
     "end_time": "2025-04-01T00:38:49.121533",
     "exception": false,
     "start_time": "2025-04-01T00:38:47.609656",
     "status": "completed"
    },
    "tags": []
   },
   "outputs": [
    {
     "data": {
      "text/html": [
       "<div>\n",
       "<style scoped>\n",
       "    .dataframe tbody tr th:only-of-type {\n",
       "        vertical-align: middle;\n",
       "    }\n",
       "\n",
       "    .dataframe tbody tr th {\n",
       "        vertical-align: top;\n",
       "    }\n",
       "\n",
       "    .dataframe thead th {\n",
       "        text-align: right;\n",
       "    }\n",
       "</style>\n",
       "<table border=\"1\" class=\"dataframe\">\n",
       "  <thead>\n",
       "    <tr style=\"text-align: right;\">\n",
       "      <th></th>\n",
       "      <th>Time</th>\n",
       "      <th>V1</th>\n",
       "      <th>V2</th>\n",
       "      <th>V3</th>\n",
       "      <th>V4</th>\n",
       "      <th>V5</th>\n",
       "      <th>V6</th>\n",
       "      <th>V7</th>\n",
       "      <th>V8</th>\n",
       "      <th>V9</th>\n",
       "      <th>...</th>\n",
       "      <th>V21</th>\n",
       "      <th>V22</th>\n",
       "      <th>V23</th>\n",
       "      <th>V24</th>\n",
       "      <th>V25</th>\n",
       "      <th>V26</th>\n",
       "      <th>V27</th>\n",
       "      <th>V28</th>\n",
       "      <th>Amount</th>\n",
       "      <th>target</th>\n",
       "    </tr>\n",
       "  </thead>\n",
       "  <tbody>\n",
       "    <tr>\n",
       "      <th>0</th>\n",
       "      <td>0.0</td>\n",
       "      <td>-1.359807</td>\n",
       "      <td>-0.072781</td>\n",
       "      <td>2.536347</td>\n",
       "      <td>1.378155</td>\n",
       "      <td>-0.338321</td>\n",
       "      <td>0.462388</td>\n",
       "      <td>0.239599</td>\n",
       "      <td>0.098698</td>\n",
       "      <td>0.363787</td>\n",
       "      <td>...</td>\n",
       "      <td>-0.018307</td>\n",
       "      <td>0.277838</td>\n",
       "      <td>-0.110474</td>\n",
       "      <td>0.066928</td>\n",
       "      <td>0.128539</td>\n",
       "      <td>-0.189115</td>\n",
       "      <td>0.133558</td>\n",
       "      <td>-0.021053</td>\n",
       "      <td>149.62</td>\n",
       "      <td>0</td>\n",
       "    </tr>\n",
       "    <tr>\n",
       "      <th>1</th>\n",
       "      <td>0.0</td>\n",
       "      <td>1.191857</td>\n",
       "      <td>0.266151</td>\n",
       "      <td>0.166480</td>\n",
       "      <td>0.448154</td>\n",
       "      <td>0.060018</td>\n",
       "      <td>-0.082361</td>\n",
       "      <td>-0.078803</td>\n",
       "      <td>0.085102</td>\n",
       "      <td>-0.255425</td>\n",
       "      <td>...</td>\n",
       "      <td>-0.225775</td>\n",
       "      <td>-0.638672</td>\n",
       "      <td>0.101288</td>\n",
       "      <td>-0.339846</td>\n",
       "      <td>0.167170</td>\n",
       "      <td>0.125895</td>\n",
       "      <td>-0.008983</td>\n",
       "      <td>0.014724</td>\n",
       "      <td>2.69</td>\n",
       "      <td>0</td>\n",
       "    </tr>\n",
       "    <tr>\n",
       "      <th>2</th>\n",
       "      <td>1.0</td>\n",
       "      <td>-1.358354</td>\n",
       "      <td>-1.340163</td>\n",
       "      <td>1.773209</td>\n",
       "      <td>0.379780</td>\n",
       "      <td>-0.503198</td>\n",
       "      <td>1.800499</td>\n",
       "      <td>0.791461</td>\n",
       "      <td>0.247676</td>\n",
       "      <td>-1.514654</td>\n",
       "      <td>...</td>\n",
       "      <td>0.247998</td>\n",
       "      <td>0.771679</td>\n",
       "      <td>0.909412</td>\n",
       "      <td>-0.689281</td>\n",
       "      <td>-0.327642</td>\n",
       "      <td>-0.139097</td>\n",
       "      <td>-0.055353</td>\n",
       "      <td>-0.059752</td>\n",
       "      <td>378.66</td>\n",
       "      <td>0</td>\n",
       "    </tr>\n",
       "    <tr>\n",
       "      <th>3</th>\n",
       "      <td>1.0</td>\n",
       "      <td>-0.966272</td>\n",
       "      <td>-0.185226</td>\n",
       "      <td>1.792993</td>\n",
       "      <td>-0.863291</td>\n",
       "      <td>-0.010309</td>\n",
       "      <td>1.247203</td>\n",
       "      <td>0.237609</td>\n",
       "      <td>0.377436</td>\n",
       "      <td>-1.387024</td>\n",
       "      <td>...</td>\n",
       "      <td>-0.108300</td>\n",
       "      <td>0.005274</td>\n",
       "      <td>-0.190321</td>\n",
       "      <td>-1.175575</td>\n",
       "      <td>0.647376</td>\n",
       "      <td>-0.221929</td>\n",
       "      <td>0.062723</td>\n",
       "      <td>0.061458</td>\n",
       "      <td>123.50</td>\n",
       "      <td>0</td>\n",
       "    </tr>\n",
       "    <tr>\n",
       "      <th>4</th>\n",
       "      <td>2.0</td>\n",
       "      <td>-1.158233</td>\n",
       "      <td>0.877737</td>\n",
       "      <td>1.548718</td>\n",
       "      <td>0.403034</td>\n",
       "      <td>-0.407193</td>\n",
       "      <td>0.095921</td>\n",
       "      <td>0.592941</td>\n",
       "      <td>-0.270533</td>\n",
       "      <td>0.817739</td>\n",
       "      <td>...</td>\n",
       "      <td>-0.009431</td>\n",
       "      <td>0.798278</td>\n",
       "      <td>-0.137458</td>\n",
       "      <td>0.141267</td>\n",
       "      <td>-0.206010</td>\n",
       "      <td>0.502292</td>\n",
       "      <td>0.219422</td>\n",
       "      <td>0.215153</td>\n",
       "      <td>69.99</td>\n",
       "      <td>0</td>\n",
       "    </tr>\n",
       "  </tbody>\n",
       "</table>\n",
       "<p>5 rows × 31 columns</p>\n",
       "</div>"
      ],
      "text/plain": [
       "   Time        V1        V2        V3        V4        V5        V6        V7  \\\n",
       "0   0.0 -1.359807 -0.072781  2.536347  1.378155 -0.338321  0.462388  0.239599   \n",
       "1   0.0  1.191857  0.266151  0.166480  0.448154  0.060018 -0.082361 -0.078803   \n",
       "2   1.0 -1.358354 -1.340163  1.773209  0.379780 -0.503198  1.800499  0.791461   \n",
       "3   1.0 -0.966272 -0.185226  1.792993 -0.863291 -0.010309  1.247203  0.237609   \n",
       "4   2.0 -1.158233  0.877737  1.548718  0.403034 -0.407193  0.095921  0.592941   \n",
       "\n",
       "         V8        V9  ...       V21       V22       V23       V24       V25  \\\n",
       "0  0.098698  0.363787  ... -0.018307  0.277838 -0.110474  0.066928  0.128539   \n",
       "1  0.085102 -0.255425  ... -0.225775 -0.638672  0.101288 -0.339846  0.167170   \n",
       "2  0.247676 -1.514654  ...  0.247998  0.771679  0.909412 -0.689281 -0.327642   \n",
       "3  0.377436 -1.387024  ... -0.108300  0.005274 -0.190321 -1.175575  0.647376   \n",
       "4 -0.270533  0.817739  ... -0.009431  0.798278 -0.137458  0.141267 -0.206010   \n",
       "\n",
       "        V26       V27       V28  Amount  target  \n",
       "0 -0.189115  0.133558 -0.021053  149.62       0  \n",
       "1  0.125895 -0.008983  0.014724    2.69       0  \n",
       "2 -0.139097 -0.055353 -0.059752  378.66       0  \n",
       "3 -0.221929  0.062723  0.061458  123.50       0  \n",
       "4  0.502292  0.219422  0.215153   69.99       0  \n",
       "\n",
       "[5 rows x 31 columns]"
      ]
     },
     "execution_count": 10,
     "metadata": {},
     "output_type": "execute_result"
    }
   ],
   "source": [
    "df = basic_processing(df, col_drop = [], col_rename = {\"Class\": \"target\"})\n",
    "df.head()"
   ]
  },
  {
   "cell_type": "code",
   "execution_count": 11,
   "id": "07beac4b",
   "metadata": {
    "execution": {
     "iopub.execute_input": "2025-04-01T00:38:49.195743Z",
     "iopub.status.busy": "2025-04-01T00:38:49.195042Z",
     "iopub.status.idle": "2025-04-01T00:38:49.197993Z",
     "shell.execute_reply": "2025-04-01T00:38:49.197436Z"
    },
    "papermill": {
     "duration": 0.043934,
     "end_time": "2025-04-01T00:38:49.198153",
     "exception": false,
     "start_time": "2025-04-01T00:38:49.154219",
     "status": "completed"
    },
    "tags": []
   },
   "outputs": [],
   "source": [
    "# Applying statistical imputation\n",
    "def imputation_missing_val(data):\n",
    "    \"\"\" Impute missing value using median and mode\n",
    "    \n",
    "    Parameters\n",
    "    ----------\n",
    "    data : dataframe\n",
    "        A dataset\n",
    "\n",
    "    Returns\n",
    "    -------\n",
    "    data\n",
    "        an imputed dataframe\n",
    "    \"\"\" \n",
    "    \n",
    "    # Filter the columns with missing values\n",
    "    null_cols = data.columns[data.isna().any()].tolist()\n",
    "    \n",
    "    for col in null_cols:\n",
    "        # Impute using median for numeric columns\n",
    "        if data[col].dtype.kind in 'iufc':\n",
    "            data[col] = data[col].transform(lambda x: x.fillna(x.median()))\n",
    "            \n",
    "        # Impute using median for non-numeric columns\n",
    "        else:\n",
    "            data[col] = data[col].transform(lambda x: x.fillna(x.mode()))\n",
    "    \n",
    "    return data"
   ]
  },
  {
   "cell_type": "code",
   "execution_count": 12,
   "id": "cc1e5233",
   "metadata": {
    "execution": {
     "iopub.execute_input": "2025-04-01T00:38:49.273846Z",
     "iopub.status.busy": "2025-04-01T00:38:49.273166Z",
     "iopub.status.idle": "2025-04-01T00:38:49.276384Z",
     "shell.execute_reply": "2025-04-01T00:38:49.275872Z",
     "shell.execute_reply.started": "2022-02-11T15:36:45.326821Z"
    },
    "papermill": {
     "duration": 0.045705,
     "end_time": "2025-04-01T00:38:49.276535",
     "exception": false,
     "start_time": "2025-04-01T00:38:49.230830",
     "status": "completed"
    },
    "tags": []
   },
   "outputs": [],
   "source": [
    "# Identify missing values and dealing with them if present\n",
    "def identify_missing_val(data):\n",
    "    \"\"\" Identify missing/na values\n",
    "    \n",
    "    Parameters\n",
    "    ----------\n",
    "    data : dataframe\n",
    "        A dataset\n",
    "\n",
    "    Returns\n",
    "    -------\n",
    "    data\n",
    "        a dataframe with no missing values \n",
    "        either after imputation or original format\n",
    "    \"\"\"\n",
    "    \n",
    "    # Count number of missing values \n",
    "    sum_nulls = data.isna().sum().sum()\n",
    "    print(\"With %d null/na values in the dataset:\" % sum_nulls)\n",
    "    \n",
    "    # Only visualize if missing values present\n",
    "    if sum_nulls > 0: \n",
    "        print(\"- We need to resolve this issue.\")\n",
    "        plt.figure(figsize=(10,6))\n",
    "        sns.heatmap(df.isna().transpose(),\n",
    "                    cmap=\"YlGnBu\",\n",
    "                    cbar_kws={'label': 'Missing Data'})\n",
    "        plt.xlabel(\"Features\")\n",
    "        plt.ylabel(\"Observations\")\n",
    "        plt.show()\n",
    "        \n",
    "        # Proceeding in imputing the dataset with missing values\n",
    "        data = imputation_missing_val(data)\n",
    "        sum_nulls = data.isna().sum().sum()\n",
    "        print(\"After imputation, we have missing {:d} values in our data.\" % sum_nulls)\n",
    "    else:\n",
    "        print(\"- No action needed\")\n",
    "        pass\n",
    "    return data"
   ]
  },
  {
   "cell_type": "code",
   "execution_count": 13,
   "id": "21ac338e",
   "metadata": {
    "execution": {
     "iopub.execute_input": "2025-04-01T00:38:49.346010Z",
     "iopub.status.busy": "2025-04-01T00:38:49.345320Z",
     "iopub.status.idle": "2025-04-01T00:38:49.396123Z",
     "shell.execute_reply": "2025-04-01T00:38:49.395632Z"
    },
    "papermill": {
     "duration": 0.08808,
     "end_time": "2025-04-01T00:38:49.396273",
     "exception": false,
     "start_time": "2025-04-01T00:38:49.308193",
     "status": "completed"
    },
    "tags": []
   },
   "outputs": [
    {
     "name": "stdout",
     "output_type": "stream",
     "text": [
      "With 0 null/na values in the dataset:\n",
      "- No action needed\n"
     ]
    },
    {
     "data": {
      "text/html": [
       "<div>\n",
       "<style scoped>\n",
       "    .dataframe tbody tr th:only-of-type {\n",
       "        vertical-align: middle;\n",
       "    }\n",
       "\n",
       "    .dataframe tbody tr th {\n",
       "        vertical-align: top;\n",
       "    }\n",
       "\n",
       "    .dataframe thead th {\n",
       "        text-align: right;\n",
       "    }\n",
       "</style>\n",
       "<table border=\"1\" class=\"dataframe\">\n",
       "  <thead>\n",
       "    <tr style=\"text-align: right;\">\n",
       "      <th></th>\n",
       "      <th>Time</th>\n",
       "      <th>V1</th>\n",
       "      <th>V2</th>\n",
       "      <th>V3</th>\n",
       "      <th>V4</th>\n",
       "      <th>V5</th>\n",
       "      <th>V6</th>\n",
       "      <th>V7</th>\n",
       "      <th>V8</th>\n",
       "      <th>V9</th>\n",
       "      <th>...</th>\n",
       "      <th>V21</th>\n",
       "      <th>V22</th>\n",
       "      <th>V23</th>\n",
       "      <th>V24</th>\n",
       "      <th>V25</th>\n",
       "      <th>V26</th>\n",
       "      <th>V27</th>\n",
       "      <th>V28</th>\n",
       "      <th>Amount</th>\n",
       "      <th>target</th>\n",
       "    </tr>\n",
       "  </thead>\n",
       "  <tbody>\n",
       "    <tr>\n",
       "      <th>0</th>\n",
       "      <td>0.0</td>\n",
       "      <td>-1.359807</td>\n",
       "      <td>-0.072781</td>\n",
       "      <td>2.536347</td>\n",
       "      <td>1.378155</td>\n",
       "      <td>-0.338321</td>\n",
       "      <td>0.462388</td>\n",
       "      <td>0.239599</td>\n",
       "      <td>0.098698</td>\n",
       "      <td>0.363787</td>\n",
       "      <td>...</td>\n",
       "      <td>-0.018307</td>\n",
       "      <td>0.277838</td>\n",
       "      <td>-0.110474</td>\n",
       "      <td>0.066928</td>\n",
       "      <td>0.128539</td>\n",
       "      <td>-0.189115</td>\n",
       "      <td>0.133558</td>\n",
       "      <td>-0.021053</td>\n",
       "      <td>149.62</td>\n",
       "      <td>0</td>\n",
       "    </tr>\n",
       "    <tr>\n",
       "      <th>1</th>\n",
       "      <td>0.0</td>\n",
       "      <td>1.191857</td>\n",
       "      <td>0.266151</td>\n",
       "      <td>0.166480</td>\n",
       "      <td>0.448154</td>\n",
       "      <td>0.060018</td>\n",
       "      <td>-0.082361</td>\n",
       "      <td>-0.078803</td>\n",
       "      <td>0.085102</td>\n",
       "      <td>-0.255425</td>\n",
       "      <td>...</td>\n",
       "      <td>-0.225775</td>\n",
       "      <td>-0.638672</td>\n",
       "      <td>0.101288</td>\n",
       "      <td>-0.339846</td>\n",
       "      <td>0.167170</td>\n",
       "      <td>0.125895</td>\n",
       "      <td>-0.008983</td>\n",
       "      <td>0.014724</td>\n",
       "      <td>2.69</td>\n",
       "      <td>0</td>\n",
       "    </tr>\n",
       "    <tr>\n",
       "      <th>2</th>\n",
       "      <td>1.0</td>\n",
       "      <td>-1.358354</td>\n",
       "      <td>-1.340163</td>\n",
       "      <td>1.773209</td>\n",
       "      <td>0.379780</td>\n",
       "      <td>-0.503198</td>\n",
       "      <td>1.800499</td>\n",
       "      <td>0.791461</td>\n",
       "      <td>0.247676</td>\n",
       "      <td>-1.514654</td>\n",
       "      <td>...</td>\n",
       "      <td>0.247998</td>\n",
       "      <td>0.771679</td>\n",
       "      <td>0.909412</td>\n",
       "      <td>-0.689281</td>\n",
       "      <td>-0.327642</td>\n",
       "      <td>-0.139097</td>\n",
       "      <td>-0.055353</td>\n",
       "      <td>-0.059752</td>\n",
       "      <td>378.66</td>\n",
       "      <td>0</td>\n",
       "    </tr>\n",
       "    <tr>\n",
       "      <th>3</th>\n",
       "      <td>1.0</td>\n",
       "      <td>-0.966272</td>\n",
       "      <td>-0.185226</td>\n",
       "      <td>1.792993</td>\n",
       "      <td>-0.863291</td>\n",
       "      <td>-0.010309</td>\n",
       "      <td>1.247203</td>\n",
       "      <td>0.237609</td>\n",
       "      <td>0.377436</td>\n",
       "      <td>-1.387024</td>\n",
       "      <td>...</td>\n",
       "      <td>-0.108300</td>\n",
       "      <td>0.005274</td>\n",
       "      <td>-0.190321</td>\n",
       "      <td>-1.175575</td>\n",
       "      <td>0.647376</td>\n",
       "      <td>-0.221929</td>\n",
       "      <td>0.062723</td>\n",
       "      <td>0.061458</td>\n",
       "      <td>123.50</td>\n",
       "      <td>0</td>\n",
       "    </tr>\n",
       "    <tr>\n",
       "      <th>4</th>\n",
       "      <td>2.0</td>\n",
       "      <td>-1.158233</td>\n",
       "      <td>0.877737</td>\n",
       "      <td>1.548718</td>\n",
       "      <td>0.403034</td>\n",
       "      <td>-0.407193</td>\n",
       "      <td>0.095921</td>\n",
       "      <td>0.592941</td>\n",
       "      <td>-0.270533</td>\n",
       "      <td>0.817739</td>\n",
       "      <td>...</td>\n",
       "      <td>-0.009431</td>\n",
       "      <td>0.798278</td>\n",
       "      <td>-0.137458</td>\n",
       "      <td>0.141267</td>\n",
       "      <td>-0.206010</td>\n",
       "      <td>0.502292</td>\n",
       "      <td>0.219422</td>\n",
       "      <td>0.215153</td>\n",
       "      <td>69.99</td>\n",
       "      <td>0</td>\n",
       "    </tr>\n",
       "  </tbody>\n",
       "</table>\n",
       "<p>5 rows × 31 columns</p>\n",
       "</div>"
      ],
      "text/plain": [
       "   Time        V1        V2        V3        V4        V5        V6        V7  \\\n",
       "0   0.0 -1.359807 -0.072781  2.536347  1.378155 -0.338321  0.462388  0.239599   \n",
       "1   0.0  1.191857  0.266151  0.166480  0.448154  0.060018 -0.082361 -0.078803   \n",
       "2   1.0 -1.358354 -1.340163  1.773209  0.379780 -0.503198  1.800499  0.791461   \n",
       "3   1.0 -0.966272 -0.185226  1.792993 -0.863291 -0.010309  1.247203  0.237609   \n",
       "4   2.0 -1.158233  0.877737  1.548718  0.403034 -0.407193  0.095921  0.592941   \n",
       "\n",
       "         V8        V9  ...       V21       V22       V23       V24       V25  \\\n",
       "0  0.098698  0.363787  ... -0.018307  0.277838 -0.110474  0.066928  0.128539   \n",
       "1  0.085102 -0.255425  ... -0.225775 -0.638672  0.101288 -0.339846  0.167170   \n",
       "2  0.247676 -1.514654  ...  0.247998  0.771679  0.909412 -0.689281 -0.327642   \n",
       "3  0.377436 -1.387024  ... -0.108300  0.005274 -0.190321 -1.175575  0.647376   \n",
       "4 -0.270533  0.817739  ... -0.009431  0.798278 -0.137458  0.141267 -0.206010   \n",
       "\n",
       "        V26       V27       V28  Amount  target  \n",
       "0 -0.189115  0.133558 -0.021053  149.62       0  \n",
       "1  0.125895 -0.008983  0.014724    2.69       0  \n",
       "2 -0.139097 -0.055353 -0.059752  378.66       0  \n",
       "3 -0.221929  0.062723  0.061458  123.50       0  \n",
       "4  0.502292  0.219422  0.215153   69.99       0  \n",
       "\n",
       "[5 rows x 31 columns]"
      ]
     },
     "execution_count": 13,
     "metadata": {},
     "output_type": "execute_result"
    }
   ],
   "source": [
    "df = identify_missing_val(df)\n",
    "df.head()"
   ]
  },
  {
   "cell_type": "markdown",
   "id": "648b7aa6",
   "metadata": {
    "papermill": {
     "duration": 0.032117,
     "end_time": "2025-04-01T00:38:49.461487",
     "exception": false,
     "start_time": "2025-04-01T00:38:49.429370",
     "status": "completed"
    },
    "tags": []
   },
   "source": [
    "**Takeaway:** We have no missing values given the pre-processing done prior.\n",
    "\n",
    "**Note**: With most predictors transformed, there will be little chance for any outliers in the data points for V1, V2, ..., V28. So, we will only examine Amount as the only meaningful numeric feature."
   ]
  },
  {
   "cell_type": "code",
   "execution_count": 14,
   "id": "eff6a2e0",
   "metadata": {
    "execution": {
     "iopub.execute_input": "2025-04-01T00:38:49.533125Z",
     "iopub.status.busy": "2025-04-01T00:38:49.532401Z",
     "iopub.status.idle": "2025-04-01T00:38:49.773537Z",
     "shell.execute_reply": "2025-04-01T00:38:49.772918Z",
     "shell.execute_reply.started": "2022-02-11T15:37:00.86248Z"
    },
    "papermill": {
     "duration": 0.279859,
     "end_time": "2025-04-01T00:38:49.773826",
     "exception": false,
     "start_time": "2025-04-01T00:38:49.493967",
     "status": "completed"
    },
    "tags": []
   },
   "outputs": [
    {
     "data": {
      "image/png": "[encoded data removed]",
      "text/plain": [
       "<Figure size 864x576 with 1 Axes>"
      ]
     },
     "metadata": {},
     "output_type": "display_data"
    }
   ],
   "source": [
    "## Outliers\n",
    "sns.boxplot(data=df, x='Amount')\n",
    "plt.show()"
   ]
  },
  {
   "cell_type": "markdown",
   "id": "2f8e4e21",
   "metadata": {
    "papermill": {
     "duration": 0.033928,
     "end_time": "2025-04-01T00:38:49.842459",
     "exception": false,
     "start_time": "2025-04-01T00:38:49.808531",
     "status": "completed"
    },
    "tags": []
   },
   "source": [
    "**Takeaway:** From the boxplot below, we can observe a non-negligible number of outliers on the upper end of the distribution. It would denote transactions with high amounts in the order of thousands of dollars. We would assess the effect of this skewed distribution when building the predictive models in terms of feature transformation or selecting models robust to such feature types.\n",
    "\n",
    "**Note:** Now, we will proceed in doing the same thing with each continuous independent variable"
   ]
  },
  {
   "cell_type": "code",
   "execution_count": 15,
   "id": "3e29f5f0",
   "metadata": {
    "execution": {
     "iopub.execute_input": "2025-04-01T00:38:49.919556Z",
     "iopub.status.busy": "2025-04-01T00:38:49.918648Z",
     "iopub.status.idle": "2025-04-01T00:38:49.921472Z",
     "shell.execute_reply": "2025-04-01T00:38:49.922071Z",
     "shell.execute_reply.started": "2022-02-11T15:37:01.161807Z"
    },
    "papermill": {
     "duration": 0.046702,
     "end_time": "2025-04-01T00:38:49.922263",
     "exception": false,
     "start_time": "2025-04-01T00:38:49.875561",
     "status": "completed"
    },
    "tags": []
   },
   "outputs": [],
   "source": [
    "# Detecting outliers using z-score\n",
    "def outliers_detection(data, threshold=3):\n",
    "    \"\"\" Function to detect outliers\n",
    "    \n",
    "    Parameters\n",
    "    ----------\n",
    "    data : dataframe\n",
    "        A dataset\n",
    "    threshold:\n",
    "        The threshold at which a value is an outlier\n",
    "        ±2.5σ from the µ\n",
    "\n",
    "    Returns\n",
    "    -------\n",
    "    data\n",
    "        a dataframe with no missing values \n",
    "        either after imputation or original format\n",
    "    \"\"\"\n",
    "    print(\"At ±\", threshold, \"standard deviation from the mean:\")\n",
    "    for col in data.columns[:-1]:\n",
    "        # Calculating the z-score for each predictor\n",
    "        var = data[col]\n",
    "        z = np.abs(stats.zscore(var))\n",
    "\n",
    "        # Outlier\n",
    "        pos = list(np.where(z > threshold)[0])\n",
    "        no_of_outliers = len(pos)\n",
    "        if no_of_outliers > 0:\n",
    "            print(\"\\t- \", col, \"variable contains\", no_of_outliers,  \"outliers\")\n",
    "            if no_of_outliers < 10:\n",
    "                outliers = list(var[pos])\n",
    "                print(outliers)\n",
    "            else:\n",
    "                continue\n",
    "\n",
    "        else:\n",
    "            print(\"\\t- No outliers detected for the\", col, \"variable\")"
   ]
  },
  {
   "cell_type": "code",
   "execution_count": 16,
   "id": "aeeec9e9",
   "metadata": {
    "execution": {
     "iopub.execute_input": "2025-04-01T00:38:49.995706Z",
     "iopub.status.busy": "2025-04-01T00:38:49.994963Z",
     "iopub.status.idle": "2025-04-01T00:38:50.206850Z",
     "shell.execute_reply": "2025-04-01T00:38:50.206209Z"
    },
    "papermill": {
     "duration": 0.251346,
     "end_time": "2025-04-01T00:38:50.207011",
     "exception": false,
     "start_time": "2025-04-01T00:38:49.955665",
     "status": "completed"
    },
    "tags": []
   },
   "outputs": [
    {
     "name": "stdout",
     "output_type": "stream",
     "text": [
      "At ± 3 standard deviation from the mean:\n",
      "\t- No outliers detected for the Time variable\n",
      "\t-  V1 variable contains 3647 outliers\n",
      "\t-  V2 variable contains 4303 outliers\n",
      "\t-  V3 variable contains 1953 outliers\n",
      "\t-  V4 variable contains 3101 outliers\n",
      "\t-  V5 variable contains 2913 outliers\n",
      "\t-  V6 variable contains 4638 outliers\n",
      "\t-  V7 variable contains 3404 outliers\n",
      "\t-  V8 variable contains 4205 outliers\n",
      "\t-  V9 variable contains 2253 outliers\n",
      "\t-  V10 variable contains 3450 outliers\n",
      "\t-  V11 variable contains 661 outliers\n",
      "\t-  V12 variable contains 3446 outliers\n",
      "\t-  V13 variable contains 1189 outliers\n",
      "\t-  V14 variable contains 3378 outliers\n",
      "\t-  V15 variable contains 1252 outliers\n",
      "\t-  V16 variable contains 2085 outliers\n",
      "\t-  V17 variable contains 2520 outliers\n",
      "\t-  V18 variable contains 1669 outliers\n",
      "\t-  V19 variable contains 3395 outliers\n",
      "\t-  V20 variable contains 4594 outliers\n",
      "\t-  V21 variable contains 4096 outliers\n",
      "\t-  V22 variable contains 1212 outliers\n",
      "\t-  V23 variable contains 3356 outliers\n",
      "\t-  V24 variable contains 659 outliers\n",
      "\t-  V25 variable contains 2799 outliers\n",
      "\t-  V26 variable contains 1044 outliers\n",
      "\t-  V27 variable contains 4775 outliers\n",
      "\t-  V28 variable contains 3236 outliers\n",
      "\t-  Amount variable contains 4063 outliers\n"
     ]
    }
   ],
   "source": [
    "outliers_detection(df)"
   ]
  },
  {
   "cell_type": "markdown",
   "id": "e9f1192c",
   "metadata": {
    "papermill": {
     "duration": 0.035311,
     "end_time": "2025-04-01T00:38:50.278223",
     "exception": false,
     "start_time": "2025-04-01T00:38:50.242912",
     "status": "completed"
    },
    "tags": []
   },
   "source": [
    "**Takeaway:** As we thought about handling those outliers, we decided to keep them all since ggood data science practices advocates to conserve as many data points as possible. Thus, allowing us to limit the biases simply to produce a better fitting model or statistically significant results."
   ]
  },
  {
   "cell_type": "markdown",
   "id": "b21854c9",
   "metadata": {
    "papermill": {
     "duration": 0.035027,
     "end_time": "2025-04-01T00:38:50.347726",
     "exception": false,
     "start_time": "2025-04-01T00:38:50.312699",
     "status": "completed"
    },
    "tags": []
   },
   "source": [
    "# 4. Exploratory Data Analysis"
   ]
  },
  {
   "cell_type": "markdown",
   "id": "78c152d8",
   "metadata": {
    "papermill": {
     "duration": 0.036047,
     "end_time": "2025-04-01T00:38:50.418217",
     "exception": false,
     "start_time": "2025-04-01T00:38:50.382170",
     "status": "completed"
    },
    "tags": []
   },
   "source": [
    "### How does Amount's distribution behaves across the Fraud Class?\n",
    "\n",
    "**Note:** In an attempt to answer the first question, we first split our dataset by target types; in other words, fraudulent and non-fraudulent transactions. We then plot the histogram side by side to observe any unusual behavior. In doing so, the non-fraud transactions were heavily right-skewed, making it quite challenging to compare the plots. To solve this issue, we used a logarithmic transformation, making it easier to see and thus, evaluate any similarities and differences."
   ]
  },
  {
   "cell_type": "code",
   "execution_count": 17,
   "id": "9ed14c58",
   "metadata": {
    "execution": {
     "iopub.execute_input": "2025-04-01T00:38:50.495644Z",
     "iopub.status.busy": "2025-04-01T00:38:50.494882Z",
     "iopub.status.idle": "2025-04-01T00:39:15.936230Z",
     "shell.execute_reply": "2025-04-01T00:39:15.935507Z",
     "shell.execute_reply.started": "2022-02-11T15:37:03.320301Z"
    },
    "papermill": {
     "duration": 25.483698,
     "end_time": "2025-04-01T00:39:15.936413",
     "exception": false,
     "start_time": "2025-04-01T00:38:50.452715",
     "status": "completed"
    },
    "tags": []
   },
   "outputs": [
    {
     "data": {
      "image/png": "[encoded data removed]",
      "text/plain": [
       "<Figure size 864x576 with 2 Axes>"
      ]
     },
     "metadata": {},
     "output_type": "display_data"
    }
   ],
   "source": [
    "# Splitting data by fraud target\n",
    "df_no_fraud = df[df['target'] == 0]\n",
    "df_fraud = df[df['target'] == 1]\n",
    "\n",
    "# Histogram for Amount Distribution per target\n",
    "fig, (ax1, ax2) = plt.subplots(1, 2, figsize=(12, 8))\n",
    "fig.suptitle('Distribution of Transaction Amount across target')\n",
    "sns.histplot(ax=ax1, data=df_no_fraud, x='Amount', stat='probability').set(xscale=\"log\")\n",
    "sns.histplot(ax=ax2, data=df_fraud, x='Amount', stat='probability').set(xscale=\"log\")\n",
    "plt.show()"
   ]
  },
  {
   "cell_type": "markdown",
   "id": "d25eceba",
   "metadata": {
    "papermill": {
     "duration": 0.037708,
     "end_time": "2025-04-01T00:39:16.011848",
     "exception": false,
     "start_time": "2025-04-01T00:39:15.974140",
     "status": "completed"
    },
    "tags": []
   },
   "source": [
    "**Takeaway:** Before making a note on the plots, we will first explain how to interpret logarithmic scales. In short, log scales show relative values rather than absolute ones. Indeed, 2 minus 1 would be displayed similarly to 9999 minus 9998, given that we are dealing with percentages here. In context, the histograms below would depict the order of growth of transaction value. Both distributions represent a similar trajectory, with most transactions on the lower end of the graph. It stays consistent with the mean value found at USD88, even with max values averaging USD20,000."
   ]
  },
  {
   "cell_type": "code",
   "execution_count": 18,
   "id": "fd66f3d7",
   "metadata": {
    "execution": {
     "iopub.execute_input": "2025-04-01T00:39:16.112965Z",
     "iopub.status.busy": "2025-04-01T00:39:16.112026Z",
     "iopub.status.idle": "2025-04-01T00:39:41.379407Z",
     "shell.execute_reply": "2025-04-01T00:39:41.379959Z"
    },
    "papermill": {
     "duration": 25.330915,
     "end_time": "2025-04-01T00:39:41.380259",
     "exception": false,
     "start_time": "2025-04-01T00:39:16.049344",
     "status": "completed"
    },
    "tags": []
   },
   "outputs": [
    {
     "data": {
      "image/png": "[encoded data removed]",
      "text/plain": [
       "<Figure size 864x576 with 2 Axes>"
      ]
     },
     "metadata": {},
     "output_type": "display_data"
    }
   ],
   "source": [
    "# Histogram for Amount Distribution per target after log transformation\n",
    "fig, (ax1, ax2) = plt.subplots(1, 2, figsize=(12, 8))\n",
    "fig.suptitle('Distribution of Transaction Amount across the Transaction Type')\n",
    "sns.histplot(ax=ax1, data=df_no_fraud, x='Amount', stat='probability').set(xscale=\"log\")\n",
    "sns.histplot(ax=ax2, data=df_fraud, x='Amount', stat='probability').set(xscale=\"log\")\n",
    "plt.show()"
   ]
  },
  {
   "cell_type": "markdown",
   "id": "aa6b0622",
   "metadata": {
    "papermill": {
     "duration": 0.0371,
     "end_time": "2025-04-01T00:39:41.455493",
     "exception": false,
     "start_time": "2025-04-01T00:39:41.418393",
     "status": "completed"
    },
    "tags": []
   },
   "source": [
    "### Are there any noteworthy point in time where fraud occured?\n",
    "\n",
    "**Note:** For the second question, we will check the timing of transactions to detect anything unusual. We will use only the fraud dataset and plot a scatterplot accordingly. "
   ]
  },
  {
   "cell_type": "code",
   "execution_count": 19,
   "id": "81ddee39",
   "metadata": {
    "execution": {
     "iopub.execute_input": "2025-04-01T00:39:41.571916Z",
     "iopub.status.busy": "2025-04-01T00:39:41.558909Z",
     "iopub.status.idle": "2025-04-01T00:39:41.838310Z",
     "shell.execute_reply": "2025-04-01T00:39:41.837775Z"
    },
    "papermill": {
     "duration": 0.345059,
     "end_time": "2025-04-01T00:39:41.838471",
     "exception": false,
     "start_time": "2025-04-01T00:39:41.493412",
     "status": "completed"
    },
    "tags": []
   },
   "outputs": [
    {
     "data": {
      "image/png": "[encoded data removed]",
      "text/plain": [
       "<Figure size 864x576 with 1 Axes>"
      ]
     },
     "metadata": {},
     "output_type": "display_data"
    }
   ],
   "source": [
    "# Scatterplot\n",
    "sns.scatterplot(data=df_fraud, x='Time', y='Amount')\n",
    "plt.show()"
   ]
  },
  {
   "cell_type": "markdown",
   "id": "919365b4",
   "metadata": {
    "papermill": {
     "duration": 0.037633,
     "end_time": "2025-04-01T00:39:41.913837",
     "exception": false,
     "start_time": "2025-04-01T00:39:41.876204",
     "status": "completed"
    },
    "tags": []
   },
   "source": [
    "**Takeaway:** The graph above does not appear that there is a clustering pattern on a time interval. So, we would assume that fraud occurred across time quite randomly. "
   ]
  },
  {
   "cell_type": "markdown",
   "id": "ddc68469",
   "metadata": {
    "papermill": {
     "duration": 0.03728,
     "end_time": "2025-04-01T00:39:41.988859",
     "exception": false,
     "start_time": "2025-04-01T00:39:41.951579",
     "status": "completed"
    },
    "tags": []
   },
   "source": [
    "# 5. Class Imbalance\n",
    "\n",
    "Our diagnostics observed a stark imbalance between targetes of transactions, with fraud only making up 0.2% of all transaction. Given the limited pool of examples to train, it poses an issue in terms of building an effective machine model to predict if there is a fraud. With the minority target being so small, we would expect poor performance on the critical task of detecting fraud transactions. In that vein, we will use different sampling methods (Undersampling & Oversampling) to tackle this problem.\n",
    "\n",
    "**Definitions:** \n",
    "* **SMOTE** (Synthetic Minority Oversampling Technique) is an oversampling approach to the minority target. In context, it would mean to randomly increase fraud examples by \"artificially\" replicating to have a more balanced target distribution. Further information [here](https://rikunert.com/smote_explained).\n",
    "* **Near-Miss Algorithm** is an undersampling approach on the majority target. In context, we select examples to keep out of the training set based on the distance of majority target examples to minority target examples. Further information [here](https://machinelearningmastery.com/undersampling-algorithms-for-imbalanced-targetification/).\n",
    "* **Combine over- and uner- sampling**: With the risk of overfitting with oversampling and the possibility to lose valuable information from undersampling, we will also consider combining both to rebalance the distribution. So, we shall proceed with the combination to offer curve out the risks we identified."
   ]
  },
  {
   "cell_type": "code",
   "execution_count": 20,
   "id": "0e0c28cd",
   "metadata": {
    "execution": {
     "iopub.execute_input": "2025-04-01T00:39:42.081402Z",
     "iopub.status.busy": "2025-04-01T00:39:42.080273Z",
     "iopub.status.idle": "2025-04-01T00:39:42.083576Z",
     "shell.execute_reply": "2025-04-01T00:39:42.083042Z"
    },
    "papermill": {
     "duration": 0.053679,
     "end_time": "2025-04-01T00:39:42.083744",
     "exception": false,
     "start_time": "2025-04-01T00:39:42.030065",
     "status": "completed"
    },
    "tags": []
   },
   "outputs": [],
   "source": [
    "def class_imbalance(data, sampling_methods={'SMOTE': SMOTE(), 'Near-Miss': NearMiss(),\n",
    "                                            'over': RandomOverSampler(sampling_strategy=0.5),\n",
    "                                            'under':RandomUnderSampler(sampling_strategy=0.8)}):\n",
    "    \"\"\" Mitigate the risk of poor model performance using re-sampling methods\n",
    "    \n",
    "    Parameters\n",
    "    ----------\n",
    "    data: dataframe\n",
    "        A dataset\n",
    "    \n",
    "    sampling_methods: dictionary\n",
    "        Key-pair values of under- and over- sampling methods\n",
    "        \n",
    "    Returns\n",
    "    -------\n",
    "    X_sampled, y_sampled: arrays of values\n",
    "        Feature(s) and Target variable respectively with sampling methods done\n",
    "    \"\"\"\n",
    "    # Splitting features & target variable\n",
    "    X = df.drop(columns=['target'], axis=1)\n",
    "    y = df['target']\n",
    "    \n",
    "    #Testing SMOTE() and Near-Miss() Algorithms\n",
    "    sampling_alg = [sampling_methods['SMOTE'], sampling_methods['Near-Miss']]\n",
    "\n",
    "    for alg in sampling_alg:\n",
    "        X_new, y_new = alg.fit_resample(X, y)\n",
    "        bal = y_new.value_counts(normalize=True) * 100\n",
    "        \n",
    "        print(f'''Shape of X before {alg}: {X.shape} Shape of X after {alg}: {X_new.shape}''')\n",
    "        print(f'\\nBalance of positive and negative classes (%): \\n{bal}\\n')\n",
    "    \n",
    "    ## Combined Sampling: Random Sampling Algorithms\n",
    "    X_over, y_over = sampling_methods['over'].fit_resample(X, y)\n",
    "    X_sampled, y_sampled = sampling_methods['under'].fit_resample(X_over, y_over)\n",
    "    \n",
    "    bal = y_sampled.value_counts(normalize=True) * 100\n",
    "    print(f'''After combined sampling, shape of features: {X_sampled.shape}''')\n",
    "    print(f'\\nBalance of positive and negative classes (%): \\n{bal}\\n')\n",
    "        \n",
    "    return X_sampled, y_sampled"
   ]
  },
  {
   "cell_type": "code",
   "execution_count": 21,
   "id": "bbf93470",
   "metadata": {
    "execution": {
     "iopub.execute_input": "2025-04-01T00:39:42.214397Z",
     "iopub.status.busy": "2025-04-01T00:39:42.213743Z",
     "iopub.status.idle": "2025-04-01T00:39:45.946591Z",
     "shell.execute_reply": "2025-04-01T00:39:45.946028Z"
    },
    "papermill": {
     "duration": 3.823499,
     "end_time": "2025-04-01T00:39:45.946741",
     "exception": false,
     "start_time": "2025-04-01T00:39:42.123242",
     "status": "completed"
    },
    "tags": []
   },
   "outputs": [
    {
     "name": "stdout",
     "output_type": "stream",
     "text": [
      "Shape of X before SMOTE(): (283726, 30) Shape of X after SMOTE(): (566506, 30)\n",
      "\n",
      "Balance of positive and negative classes (%): \n",
      "0    50.0\n",
      "1    50.0\n",
      "Name: target, dtype: float64\n",
      "\n",
      "Shape of X before NearMiss(): (283726, 30) Shape of X after NearMiss(): (946, 30)\n",
      "\n",
      "Balance of positive and negative classes (%): \n",
      "0    50.0\n",
      "1    50.0\n",
      "Name: target, dtype: float64\n",
      "\n",
      "After combined sampling, shape of features: (318658, 30)\n",
      "\n",
      "Balance of positive and negative classes (%): \n",
      "0    55.555486\n",
      "1    44.444514\n",
      "Name: target, dtype: float64\n",
      "\n"
     ]
    }
   ],
   "source": [
    "X, y = class_imbalance(df)"
   ]
  },
  {
   "cell_type": "markdown",
   "id": "7e395174",
   "metadata": {
    "papermill": {
     "duration": 0.044901,
     "end_time": "2025-04-01T00:39:46.042167",
     "exception": false,
     "start_time": "2025-04-01T00:39:45.997266",
     "status": "completed"
    },
    "tags": []
   },
   "source": [
    "# 6. Dimensionality Reduction\n",
    "\n",
    "This section will use dimensionality reduction to trim down the number of features we have. Dimensionality reduction encapsulates the techniques reducing the input variables in our training data. In doing so, we hope to have a more straightforward but effective machine learning model structure and avoid any potential case of overfitting. We will be testing three different methods from Linear Algebra: **PCA, SVD, and LDA** and pick the one capturing the most variability in the datasets after reducing it to principal components.\n",
    "* **PCA** (Principal Component Analysis) takes data with m-columns projected to a subspace with n-features (n < m) while preserving the crucial information from the original data; in other words, PCA attempts to find the **principal components (or features)** as its names denote. Further information [here](https://machinelearningmastery.com/calculate-principal-component-analysis-scratch-python/). \n",
    "* **SVD** (Singular Value Decomposition) is a process breaking down a matrix into its constituents elements by factorizing it into three separate matrices: **M=UΣVᵗ**. Further information [here](https://machinelearningmastery.com/singular-value-decomposition-for-machine-learning/). \n",
    "    * M: original matrix\n",
    "    * U: left singular matrix (columns are left singular vectors) containing eigenvectors of matrix MMᵗ\n",
    "    * Σ: a diagonal matrix containing singular (eigen)values\n",
    "    * V: right singular matrix (columns are right singular vectors) containing  eigenvectors of matrix MᵗM.\n",
    "* **Factor Analysis** is a technique that is used to reduce a large number of variables into fewer numbers of factors.  This technique extracts maximum common variance from all variables and puts them into a common score.  As an index of all variables, we can use this score for further analysis. Futher information [here](https://www.alchemer.com/resources/blog/factor-analysis/). "
   ]
  },
  {
   "cell_type": "code",
   "execution_count": 22,
   "id": "f45dcd62",
   "metadata": {
    "execution": {
     "iopub.execute_input": "2025-04-01T00:39:46.132975Z",
     "iopub.status.busy": "2025-04-01T00:39:46.131757Z",
     "iopub.status.idle": "2025-04-01T00:39:46.136022Z",
     "shell.execute_reply": "2025-04-01T00:39:46.135157Z"
    },
    "papermill": {
     "duration": 0.05442,
     "end_time": "2025-04-01T00:39:46.136307",
     "exception": false,
     "start_time": "2025-04-01T00:39:46.081887",
     "status": "completed"
    },
    "tags": []
   },
   "outputs": [],
   "source": [
    "def dimensionality_reduction(X, n=5,\n",
    "                             dimred_methods={'PCA':PCA(),'SVD':TruncatedSVD()}):\n",
    "    \"\"\" Deal with the multiple anonymized variables using dimensionality reduction\n",
    "    \n",
    "    Parameters\n",
    "    ----------\n",
    "    X: Array\n",
    "        Feature(s)\n",
    "        \n",
    "    n: Discrete number\n",
    "        Reduce the total number of features into n components\n",
    "        \n",
    "    dimred_methods: dictionary\n",
    "        Key-pair values of dimensionality reduction methods\n",
    "        \n",
    "    Returns\n",
    "    -------\n",
    "    X, y\n",
    "        Final Feature(s) and Target variables after dimensionality reduction\n",
    "    \"\"\"\n",
    "    \n",
    "    name, result = '', 0\n",
    "    for method_name, method_func in dimred_methods.items():\n",
    "        method_func.n_components = n\n",
    "        method_func.fit_transform(X)\n",
    "        exp_var = np.sum(method_func.explained_variance_ratio_)\n",
    "        if exp_var > result:\n",
    "            name = method_name \n",
    "            result = exp_var\n",
    "        else:\n",
    "            continue\n",
    "    final = dimred_methods[name]\n",
    "    final.n_components = n\n",
    "    \n",
    "    return final.fit_transform(X)\n"
   ]
  },
  {
   "cell_type": "code",
   "execution_count": 23,
   "id": "a401a933",
   "metadata": {
    "execution": {
     "iopub.execute_input": "2025-04-01T00:39:46.269202Z",
     "iopub.status.busy": "2025-04-01T00:39:46.267989Z",
     "iopub.status.idle": "2025-04-01T00:39:52.038339Z",
     "shell.execute_reply": "2025-04-01T00:39:52.037695Z"
    },
    "papermill": {
     "duration": 5.841444,
     "end_time": "2025-04-01T00:39:52.038500",
     "exception": false,
     "start_time": "2025-04-01T00:39:46.197056",
     "status": "completed"
    },
    "tags": []
   },
   "outputs": [],
   "source": [
    "X_red = dimensionality_reduction(X)"
   ]
  },
  {
   "cell_type": "markdown",
   "id": "9ebaff1c",
   "metadata": {
    "papermill": {
     "duration": 0.03953,
     "end_time": "2025-04-01T00:39:52.117877",
     "exception": false,
     "start_time": "2025-04-01T00:39:52.078347",
     "status": "completed"
    },
    "tags": []
   },
   "source": [
    "# 7. Machine Learning set-up\n",
    "\n",
    "Under this section, we will explain the procedure of two main splitting approach to estimate our models' performance. \n",
    "\n",
    "**Model Selection methods:** \n",
    "* **Train_test_split**: Often denoted as the most popular by its simplicity, the train-test split is a sampling technique dividing the dataset between training and testing sets. In doing so, the goal would be to have enough (but not too much) in our training set used for the machine learning model to predict the observations in the testing set as accurately as possible. Most would opt for a 70/30 training-testing split, respectively, others 80/20, 60/40, or whichever else works best for the case scenario. Further information [here](https://machinelearningmastery.com/train-test-split-for-evaluating-machine-learning-algorithms/). \n",
    "\n",
    "* **Cross-validation**: As the name would suggest, we will engage here in the process of validation to ensure reliability on our model. Cross-Validation is a statistical method applied in various ways to estimate the model's performance. Some examples are **Holdout Method, K-Fold, Stratified K-Fold, Leave-P-Out.**  Further information [here](https://machinelearningmastery.com/k-fold-cross-validation/) and [here](https://towardsdatascience.com/cross-validation-in-machine-learning-72924a69872f)."
   ]
  },
  {
   "cell_type": "code",
   "execution_count": 24,
   "id": "1447d591",
   "metadata": {
    "execution": {
     "iopub.execute_input": "2025-04-01T00:39:52.208196Z",
     "iopub.status.busy": "2025-04-01T00:39:52.207413Z",
     "iopub.status.idle": "2025-04-01T00:39:52.210881Z",
     "shell.execute_reply": "2025-04-01T00:39:52.210307Z"
    },
    "papermill": {
     "duration": 0.052422,
     "end_time": "2025-04-01T00:39:52.211147",
     "exception": false,
     "start_time": "2025-04-01T00:39:52.158725",
     "status": "completed"
    },
    "tags": []
   },
   "outputs": [],
   "source": [
    "def model_comparison(X, y, models):\n",
    "    \"\"\" Function to split data into training and testing set\n",
    "    \n",
    "    Parameters\n",
    "    ----------\n",
    "    data : dataframe\n",
    "        A dataset\n",
    "    models: A dictionary\n",
    "        A pre-defined dictionary with each model name and applicable function\n",
    "    \n",
    "    optional train_test params\n",
    "    \n",
    "    Returns\n",
    "    -------\n",
    "    models_df\n",
    "        A dataframe with each model performance\n",
    "    \"\"\"\n",
    "    # Obtain training and testing sets from function above\n",
    "    X_train, X_test, y_train, y_test = train_test_split(X, y)\n",
    "    \n",
    "    # Craete dictionary to save performance data \n",
    "    models_perf = {'Models': [], 'CV_mean': [], 'CV_std': []}\n",
    "    \n",
    "    # Obtain model performance across K-Fold using Cross-Validation \n",
    "    for model in models:\n",
    "        cv_results = cross_validate(model, X_train, y_train, \n",
    "                                    cv=3, scoring='average_precision')\n",
    "        n_scores = abs(cv_results['test_score'])\n",
    "        models_perf['Models'].append(str(model))\n",
    "        models_perf['CV_mean'].append(np.mean(n_scores))\n",
    "        models_perf['CV_std'].append(np.std(n_scores))\n",
    "    \n",
    "    models_df = pd.DataFrame(models_perf, columns = ['Models', 'CV_mean', 'CV_std'])\n",
    "    return models_df"
   ]
  },
  {
   "cell_type": "markdown",
   "id": "9ca177d3",
   "metadata": {
    "papermill": {
     "duration": 0.040508,
     "end_time": "2025-04-01T00:39:52.294293",
     "exception": false,
     "start_time": "2025-04-01T00:39:52.253785",
     "status": "completed"
    },
    "tags": []
   },
   "source": [
    "# 8. Machine Learning - Simple Models\n",
    "\n",
    "This section will leverage the powerful sci-kit-learn package to build multiple models with little to no parameter tuning for comparison. We will only use the cross-validation error on our training dataset to avoid any data leakage.\n",
    "\n",
    "* **Logistic Regression**  is a predictive targetifier that models an S-shaped curve (Sigmoid function) on the data to label the examples. Further information [here](https://machinelearningmastery.com/logistic-regression-for-machine-learning/).\n",
    "* **k-Nearest Neighbors**  is a machine learning model built on Euclidean distance that categorizes the observations. Further information [here](https://towardsdatascience.com/machine-learning-basics-with-the-k-nearest-neighbors-algorithm-6a6e71d01761#:~:text=Summary-,The%20k%2Dnearest%20neighbors%20(KNN)%20algorithm%20is%20a%20simple,that%20data%20in%20use%20grows.).\n",
    "* **Stochastic Gradient**  Descent is an iterative algorithm that minimizes the model's error rate. Further information [here](https://towardsdatascience.com/stochastic-gradient-descent-clearly-explained-53d239905d31).\n",
    "* **A Decision Tree**  is a supervised machine learning algorithm building an actual tree based on splits within the data. [here](https://www.xoriant.com/blog/product-engineering/decision-trees-machine-learning-algorithm.html)."
   ]
  },
  {
   "cell_type": "code",
   "execution_count": 25,
   "id": "8c0d8ea6",
   "metadata": {
    "execution": {
     "iopub.execute_input": "2025-04-01T00:39:52.391831Z",
     "iopub.status.busy": "2025-04-01T00:39:52.380882Z",
     "iopub.status.idle": "2025-04-01T00:40:54.048653Z",
     "shell.execute_reply": "2025-04-01T00:40:54.049242Z",
     "shell.execute_reply.started": "2022-02-11T15:38:28.469733Z"
    },
    "papermill": {
     "duration": 61.715219,
     "end_time": "2025-04-01T00:40:54.049464",
     "exception": false,
     "start_time": "2025-04-01T00:39:52.334245",
     "status": "completed"
    },
    "tags": []
   },
   "outputs": [
    {
     "data": {
      "text/html": [
       "<div>\n",
       "<style scoped>\n",
       "    .dataframe tbody tr th:only-of-type {\n",
       "        vertical-align: middle;\n",
       "    }\n",
       "\n",
       "    .dataframe tbody tr th {\n",
       "        vertical-align: top;\n",
       "    }\n",
       "\n",
       "    .dataframe thead th {\n",
       "        text-align: right;\n",
       "    }\n",
       "</style>\n",
       "<table border=\"1\" class=\"dataframe\">\n",
       "  <thead>\n",
       "    <tr style=\"text-align: right;\">\n",
       "      <th></th>\n",
       "      <th>Models</th>\n",
       "      <th>CV_mean</th>\n",
       "      <th>CV_std</th>\n",
       "    </tr>\n",
       "  </thead>\n",
       "  <tbody>\n",
       "    <tr>\n",
       "      <th>0</th>\n",
       "      <td>LogisticRegression(max_iter=1000)</td>\n",
       "      <td>0.982706</td>\n",
       "      <td>0.000568</td>\n",
       "    </tr>\n",
       "    <tr>\n",
       "      <th>1</th>\n",
       "      <td>KNeighborsClassifier()</td>\n",
       "      <td>0.997512</td>\n",
       "      <td>0.000356</td>\n",
       "    </tr>\n",
       "    <tr>\n",
       "      <th>2</th>\n",
       "      <td>SGDClassifier()</td>\n",
       "      <td>0.829950</td>\n",
       "      <td>0.080237</td>\n",
       "    </tr>\n",
       "    <tr>\n",
       "      <th>3</th>\n",
       "      <td>DecisionTreeClassifier()</td>\n",
       "      <td>0.998806</td>\n",
       "      <td>0.000366</td>\n",
       "    </tr>\n",
       "  </tbody>\n",
       "</table>\n",
       "</div>"
      ],
      "text/plain": [
       "                              Models   CV_mean    CV_std\n",
       "0  LogisticRegression(max_iter=1000)  0.982706  0.000568\n",
       "1             KNeighborsClassifier()  0.997512  0.000356\n",
       "2                    SGDClassifier()  0.829950  0.080237\n",
       "3           DecisionTreeClassifier()  0.998806  0.000366"
      ]
     },
     "execution_count": 25,
     "metadata": {},
     "output_type": "execute_result"
    }
   ],
   "source": [
    "# List of simple ML models\n",
    "models_simple = [LogisticRegression(max_iter=1000), KNeighborsClassifier(), \n",
    "                 SGDClassifier(), DecisionTreeClassifier()]\n",
    "\n",
    "# Model Comparison\n",
    "model_comparison(X_red, y, models_simple)"
   ]
  },
  {
   "cell_type": "markdown",
   "id": "d9ab8dcd",
   "metadata": {
    "papermill": {
     "duration": 0.040497,
     "end_time": "2025-04-01T00:40:54.130652",
     "exception": false,
     "start_time": "2025-04-01T00:40:54.090155",
     "status": "completed"
    },
    "tags": []
   },
   "source": [
    "**Takeaway:** Our two best models are kNN and Decision Tree with both approximating 0.996 AUPRC."
   ]
  },
  {
   "cell_type": "markdown",
   "id": "c2fdc4c3",
   "metadata": {
    "papermill": {
     "duration": 0.040841,
     "end_time": "2025-04-01T00:40:54.215672",
     "exception": false,
     "start_time": "2025-04-01T00:40:54.174831",
     "status": "completed"
    },
    "tags": []
   },
   "source": [
    "# 9. Machine Learning - Ensemble Methods\n",
    "\n",
    "This section will extend our work in machine learning to incorporate ensemble methods. We generated simple models and compared the scores, which appear satisfactory even for the lowest Average Precision Score. However, we may want more stability and minor variation in our predictive algorithm; it is where ensemble techniques come in. Most often, they act as a 'superposer' of multiple models throughout various ways and thus, bolster their predictive power. Further Information [here](https://machinelearningmastery.com/tour-of-ensemble-learning-algorithms/). \n",
    "* **Random Forest** builds onto the logic of decision trees by agglomerating multiple trees and obtaining a given prediction from majority voting; in other words, it is a Decision Tree times n (number of trees). Further information [here](https://towardsdatascience.com/understanding-random-forest-58381e0602d2).\n",
    "* **Stochastic Gradient Boosting**  is part of the more sophisticated ensemble techniques (Boosting), learning from previous models' errors and building a sequential improvement process. Further information [here](https://towardsdatascience.com/understanding-random-forest-58381e0602d2).\n",
    "* **XGBoost**: It stands for “Extreme Gradient Boosting” and is an optimized distributed gradient boosting library designed to be highly efficient, flexible and portable. Further information [here](https://www.mygreatlearning.com/blog/xgboost-algorithm/)."
   ]
  },
  {
   "cell_type": "code",
   "execution_count": 26,
   "id": "68bc99fc",
   "metadata": {
    "execution": {
     "iopub.execute_input": "2025-04-01T00:40:54.315007Z",
     "iopub.status.busy": "2025-04-01T00:40:54.305667Z",
     "iopub.status.idle": "2025-04-01T00:44:59.509914Z",
     "shell.execute_reply": "2025-04-01T00:44:59.510435Z",
     "shell.execute_reply.started": "2022-02-11T15:38:33.384652Z"
    },
    "papermill": {
     "duration": 245.254118,
     "end_time": "2025-04-01T00:44:59.510656",
     "exception": false,
     "start_time": "2025-04-01T00:40:54.256538",
     "status": "completed"
    },
    "tags": []
   },
   "outputs": [
    {
     "data": {
      "text/html": [
       "<div>\n",
       "<style scoped>\n",
       "    .dataframe tbody tr th:only-of-type {\n",
       "        vertical-align: middle;\n",
       "    }\n",
       "\n",
       "    .dataframe tbody tr th {\n",
       "        vertical-align: top;\n",
       "    }\n",
       "\n",
       "    .dataframe thead th {\n",
       "        text-align: right;\n",
       "    }\n",
       "</style>\n",
       "<table border=\"1\" class=\"dataframe\">\n",
       "  <thead>\n",
       "    <tr style=\"text-align: right;\">\n",
       "      <th></th>\n",
       "      <th>Models</th>\n",
       "      <th>CV_mean</th>\n",
       "      <th>CV_std</th>\n",
       "    </tr>\n",
       "  </thead>\n",
       "  <tbody>\n",
       "    <tr>\n",
       "      <th>0</th>\n",
       "      <td>RandomForestClassifier()</td>\n",
       "      <td>0.999972</td>\n",
       "      <td>0.000023</td>\n",
       "    </tr>\n",
       "    <tr>\n",
       "      <th>1</th>\n",
       "      <td>BaggingClassifier()</td>\n",
       "      <td>0.999736</td>\n",
       "      <td>0.000149</td>\n",
       "    </tr>\n",
       "    <tr>\n",
       "      <th>2</th>\n",
       "      <td>GradientBoostingClassifier()</td>\n",
       "      <td>0.996684</td>\n",
       "      <td>0.000592</td>\n",
       "    </tr>\n",
       "  </tbody>\n",
       "</table>\n",
       "</div>"
      ],
      "text/plain": [
       "                         Models   CV_mean    CV_std\n",
       "0      RandomForestClassifier()  0.999972  0.000023\n",
       "1           BaggingClassifier()  0.999736  0.000149\n",
       "2  GradientBoostingClassifier()  0.996684  0.000592"
      ]
     },
     "execution_count": 26,
     "metadata": {},
     "output_type": "execute_result"
    }
   ],
   "source": [
    "# List of ML ensemble models\n",
    "models_ensemble = [RandomForestClassifier(), \n",
    "                   BaggingClassifier(),\n",
    "                   GradientBoostingClassifier(), ]\n",
    "\n",
    "# Model Comparison\n",
    "model_comparison(X_red, y, models_ensemble)"
   ]
  },
  {
   "cell_type": "markdown",
   "id": "c929433e",
   "metadata": {
    "papermill": {
     "duration": 0.041426,
     "end_time": "2025-04-01T00:44:59.593143",
     "exception": false,
     "start_time": "2025-04-01T00:44:59.551717",
     "status": "completed"
    },
    "tags": []
   },
   "source": [
    "**Takeaway:** In all three instances, the ensemble methods outperform the simple ML models going approximating 0.999 AUPRC. "
   ]
  },
  {
   "cell_type": "markdown",
   "id": "e54d4e09",
   "metadata": {
    "papermill": {
     "duration": 0.04279,
     "end_time": "2025-04-01T00:44:59.676784",
     "exception": false,
     "start_time": "2025-04-01T00:44:59.633994",
     "status": "completed"
    },
    "tags": []
   },
   "source": [
    "# 10. Final Recommendation\n",
    "\n",
    "This section will build on everything we've done throughout this notebook and evaluate the best model using AUPRC. **Area Under the Precision-Recall Curve (AUPRC)** focuses on finding the positive examples; in other words, the fraudulent transactions in our case. Further information  [here](https://glassboxmedicine.com/2019/03/02/measuring-performance-auprc/)."
   ]
  },
  {
   "cell_type": "code",
   "execution_count": 27,
   "id": "59a84eb8",
   "metadata": {
    "execution": {
     "iopub.execute_input": "2025-04-01T00:44:59.774143Z",
     "iopub.status.busy": "2025-04-01T00:44:59.773310Z",
     "iopub.status.idle": "2025-04-01T00:45:54.956121Z",
     "shell.execute_reply": "2025-04-01T00:45:54.956604Z"
    },
    "papermill": {
     "duration": 55.238896,
     "end_time": "2025-04-01T00:45:54.956822",
     "exception": false,
     "start_time": "2025-04-01T00:44:59.717926",
     "status": "completed"
    },
    "tags": []
   },
   "outputs": [
    {
     "data": {
      "text/plain": [
       "RandomForestClassifier()"
      ]
     },
     "execution_count": 27,
     "metadata": {},
     "output_type": "execute_result"
    }
   ],
   "source": [
    "# Data split & Model Fitting\n",
    "X_train, X_test, y_train, y_test = train_test_split(X_red, y)\n",
    "final_clf = RandomForestClassifier()\n",
    "final_clf.fit(X_train, y_train)"
   ]
  },
  {
   "cell_type": "code",
   "execution_count": 28,
   "id": "942497af",
   "metadata": {
    "execution": {
     "iopub.execute_input": "2025-04-01T00:45:55.047611Z",
     "iopub.status.busy": "2025-04-01T00:45:55.046972Z",
     "iopub.status.idle": "2025-04-01T00:45:55.906495Z",
     "shell.execute_reply": "2025-04-01T00:45:55.905751Z"
    },
    "papermill": {
     "duration": 0.908649,
     "end_time": "2025-04-01T00:45:55.906674",
     "exception": false,
     "start_time": "2025-04-01T00:45:54.998025",
     "status": "completed"
    },
    "tags": []
   },
   "outputs": [
    {
     "name": "stdout",
     "output_type": "stream",
     "text": [
      "Final Model RandomForestClassifier() - AUPRC: 0.99980\n"
     ]
    }
   ],
   "source": [
    "# Predicitions & Model Performance\n",
    "y_pred = final_clf.predict(X_test)\n",
    "auprc = skm.average_precision_score(y_test, y_pred)\n",
    "# report performance\n",
    "print('Final Model {} - AUPRC: {:.5f}' .format(final_clf, auprc))"
   ]
  },
  {
   "cell_type": "markdown",
   "id": "0ab39441",
   "metadata": {
    "papermill": {
     "duration": 0.049145,
     "end_time": "2025-04-01T00:45:56.001328",
     "exception": false,
     "start_time": "2025-04-01T00:45:55.952183",
     "status": "completed"
    },
    "tags": []
   },
   "source": [
    "**Conclusion:** Given its simple implementation and recurrent high performance, we will present the Decision Tree Classifier as our final model."
   ]
  }
 ],
 "metadata": {
  "kernelspec": {
   "display_name": "Python 3",
   "language": "python",
   "name": "python3"
  },
  "language_info": {
   "codemirror_mode": {
    "name": "ipython",
    "version": 3
   },
   "file_extension": ".py",
   "mimetype": "text/x-python",
   "name": "python",
   "nbconvert_exporter": "python",
   "pygments_lexer": "ipython3",
   "version": "3.7.12"
  },
  "papermill": {
   "default_parameters": {},
   "duration": 478.117886,
   "end_time": "2025-04-01T00:45:58.367394",
   "environment_variables": {},
   "exception": null,
   "input_path": "__notebook__.ipynb",
   "output_path": "__notebook__.ipynb",
   "parameters": {},
   "start_time": "2025-04-01T00:38:00.249508",
   "version": "2.3.3"
  }
 },
 "nbformat": 4,
 "nbformat_minor": 5
}
